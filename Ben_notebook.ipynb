{
 "cells": [
  {
   "cell_type": "markdown",
   "metadata": {},
   "source": [
    "## Mini Project III"
   ]
  },
  {
   "cell_type": "code",
   "execution_count": 1,
   "metadata": {},
   "outputs": [],
   "source": [
    "import pandas as pd\n",
    "import numpy as np\n",
    "# Ben cleans:\n",
    "accounts_df = pd.read_csv('data/twm_accounts.csv', sep=';')\n",
    "checking_acct_df = pd.read_csv('data/twm_checking_acct.csv', sep=';')\n",
    "checking_tran_df = pd.read_csv('data/twm_checking_tran.csv', sep=';')\n",
    "credit_acct_df = pd.read_csv('data/twm_credit_acct.csv', sep=';')\n",
    "credit_tran_df = pd.read_csv('data/twm_credit_tran.csv', sep=';')\n",
    "\n",
    "# Brittany cleans:\n",
    "customer_df = pd.read_csv('data/twm_customer.csv', sep=';')\n",
    "savings_acct_df = pd.read_csv('data/twm_savings_acct.csv', sep=';')\n",
    "savings_tran_df = pd.read_csv('data/twm_savings_tran.csv', sep=';')\n",
    "transactions_df = pd.read_csv('data/twm_transactions.csv', sep=';')"
   ]
  },
  {
   "cell_type": "code",
   "execution_count": 2,
   "metadata": {},
   "outputs": [
    {
     "name": "stdout",
     "output_type": "stream",
     "text": [
      "(1409, 8)\n",
      "(520, 9)\n",
      "(46204, 10)\n",
      "(468, 9)\n",
      "(20167, 10)\n",
      "(747, 15)\n",
      "(421, 9)\n",
      "(11189, 10)\n",
      "(77580, 10)\n"
     ]
    }
   ],
   "source": [
    "print(accounts_df.shape, checking_acct_df.shape, checking_tran_df.shape, credit_acct_df.shape, credit_tran_df.shape, customer_df.shape, savings_acct_df.shape, savings_tran_df.shape, transactions_df.shape, sep='\\n')"
   ]
  },
  {
   "cell_type": "code",
   "execution_count": null,
   "metadata": {},
   "outputs": [],
   "source": []
  }
 ],
 "metadata": {
  "kernelspec": {
   "display_name": "Python 3",
   "language": "python",
   "name": "python3"
  },
  "language_info": {
   "codemirror_mode": {
    "name": "ipython",
    "version": 3
   },
   "file_extension": ".py",
   "mimetype": "text/x-python",
   "name": "python",
   "nbconvert_exporter": "python",
   "pygments_lexer": "ipython3",
   "version": "3.8.16"
  }
 },
 "nbformat": 4,
 "nbformat_minor": 4
}
