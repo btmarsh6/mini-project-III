{
 "cells": [
  {
   "attachments": {},
   "cell_type": "markdown",
   "metadata": {},
   "source": [
    "# Clustering based on Demographics\n",
    "\n",
    "Using the cleaned data from the customer csv file, I added city population, latitude and longitude features to the table, then dropped the columns related to address. The population and coordinates gave me numerical features that captured relevant distinctions between different locations. I also dropped customer id and name as they would not be useful in the model."
   ]
  },
  {
   "cell_type": "code",
   "execution_count": 2,
   "metadata": {},
   "outputs": [],
   "source": [
    "import numpy as np\n",
    "import pandas as pd\n",
    "import matplotlib.pyplot as plt\n",
    "import plotly.graph_objects as go\n",
    "from sklearn.cluster import KMeans, DBSCAN, AgglomerativeClustering\n",
    "from sklearn.preprocessing import StandardScaler\n",
    "import scipy.cluster.hierarchy as sch\n",
    "from sklearn.decomposition import PCA\n"
   ]
  },
  {
   "cell_type": "code",
   "execution_count": 3,
   "metadata": {},
   "outputs": [
    {
     "data": {
      "text/html": [
       "<div>\n",
       "<style scoped>\n",
       "    .dataframe tbody tr th:only-of-type {\n",
       "        vertical-align: middle;\n",
       "    }\n",
       "\n",
       "    .dataframe tbody tr th {\n",
       "        vertical-align: top;\n",
       "    }\n",
       "\n",
       "    .dataframe thead th {\n",
       "        text-align: right;\n",
       "    }\n",
       "</style>\n",
       "<table border=\"1\" class=\"dataframe\">\n",
       "  <thead>\n",
       "    <tr style=\"text-align: right;\">\n",
       "      <th></th>\n",
       "      <th>cust_id</th>\n",
       "      <th>income</th>\n",
       "      <th>age</th>\n",
       "      <th>years_with_bank</th>\n",
       "      <th>nbr_children</th>\n",
       "      <th>gender</th>\n",
       "      <th>marital_status</th>\n",
       "      <th>name_prefix</th>\n",
       "      <th>first_name</th>\n",
       "      <th>last_name</th>\n",
       "      <th>street_nbr</th>\n",
       "      <th>street_name</th>\n",
       "      <th>postal_code</th>\n",
       "      <th>city_name</th>\n",
       "      <th>state_code</th>\n",
       "    </tr>\n",
       "  </thead>\n",
       "  <tbody>\n",
       "    <tr>\n",
       "      <th>0</th>\n",
       "      <td>1362691</td>\n",
       "      <td>26150</td>\n",
       "      <td>46</td>\n",
       "      <td>5</td>\n",
       "      <td>1</td>\n",
       "      <td>M</td>\n",
       "      <td>2</td>\n",
       "      <td></td>\n",
       "      <td>Donald                                        ...</td>\n",
       "      <td>Marek                                         ...</td>\n",
       "      <td>8298</td>\n",
       "      <td>Second                                        ...</td>\n",
       "      <td>89194</td>\n",
       "      <td>Las Vegas</td>\n",
       "      <td>NV</td>\n",
       "    </tr>\n",
       "    <tr>\n",
       "      <th>1</th>\n",
       "      <td>1362487</td>\n",
       "      <td>6605</td>\n",
       "      <td>71</td>\n",
       "      <td>1</td>\n",
       "      <td>0</td>\n",
       "      <td>M</td>\n",
       "      <td>2</td>\n",
       "      <td></td>\n",
       "      <td>ChingDyi                                      ...</td>\n",
       "      <td>Moussavi                                      ...</td>\n",
       "      <td>10603</td>\n",
       "      <td>Daffodil                                      ...</td>\n",
       "      <td>90159</td>\n",
       "      <td>Los Angeles</td>\n",
       "      <td>CA</td>\n",
       "    </tr>\n",
       "    <tr>\n",
       "      <th>2</th>\n",
       "      <td>1363160</td>\n",
       "      <td>18548</td>\n",
       "      <td>38</td>\n",
       "      <td>8</td>\n",
       "      <td>0</td>\n",
       "      <td>F</td>\n",
       "      <td>1</td>\n",
       "      <td></td>\n",
       "      <td>Rosa                                          ...</td>\n",
       "      <td>Johnston                                      ...</td>\n",
       "      <td>8817</td>\n",
       "      <td>Figueroa                                      ...</td>\n",
       "      <td>90024</td>\n",
       "      <td>Los Angeles</td>\n",
       "      <td>CA</td>\n",
       "    </tr>\n",
       "    <tr>\n",
       "      <th>3</th>\n",
       "      <td>1362752</td>\n",
       "      <td>47668</td>\n",
       "      <td>54</td>\n",
       "      <td>3</td>\n",
       "      <td>0</td>\n",
       "      <td>F</td>\n",
       "      <td>1</td>\n",
       "      <td></td>\n",
       "      <td>Lisa                                          ...</td>\n",
       "      <td>Martin                                        ...</td>\n",
       "      <td>676</td>\n",
       "      <td>Humble                                        ...</td>\n",
       "      <td>90172</td>\n",
       "      <td>Los Angeles</td>\n",
       "      <td>CA</td>\n",
       "    </tr>\n",
       "    <tr>\n",
       "      <th>4</th>\n",
       "      <td>1362548</td>\n",
       "      <td>44554</td>\n",
       "      <td>59</td>\n",
       "      <td>9</td>\n",
       "      <td>2</td>\n",
       "      <td>F</td>\n",
       "      <td>4</td>\n",
       "      <td></td>\n",
       "      <td>Barbara                                       ...</td>\n",
       "      <td>O'Malley                                      ...</td>\n",
       "      <td>6578</td>\n",
       "      <td>C                                             ...</td>\n",
       "      <td>10138</td>\n",
       "      <td>New York City</td>\n",
       "      <td>NY</td>\n",
       "    </tr>\n",
       "  </tbody>\n",
       "</table>\n",
       "</div>"
      ],
      "text/plain": [
       "   cust_id  income  age  years_with_bank  nbr_children gender  marital_status   \n",
       "0  1362691   26150   46                5             1     M                2  \\\n",
       "1  1362487    6605   71                1             0     M                2   \n",
       "2  1363160   18548   38                8             0     F                1   \n",
       "3  1362752   47668   54                3             0     F                1   \n",
       "4  1362548   44554   59                9             2     F                4   \n",
       "\n",
       "  name_prefix                                         first_name   \n",
       "0              Donald                                        ...  \\\n",
       "1              ChingDyi                                      ...   \n",
       "2              Rosa                                          ...   \n",
       "3              Lisa                                          ...   \n",
       "4              Barbara                                       ...   \n",
       "\n",
       "                                           last_name  street_nbr   \n",
       "0  Marek                                         ...        8298  \\\n",
       "1  Moussavi                                      ...       10603   \n",
       "2  Johnston                                      ...        8817   \n",
       "3  Martin                                        ...         676   \n",
       "4  O'Malley                                      ...        6578   \n",
       "\n",
       "                                         street_name  postal_code   \n",
       "0  Second                                        ...        89194  \\\n",
       "1  Daffodil                                      ...        90159   \n",
       "2  Figueroa                                      ...        90024   \n",
       "3  Humble                                        ...        90172   \n",
       "4  C                                             ...        10138   \n",
       "\n",
       "                                  city_name state_code  \n",
       "0  Las Vegas                                      NV    \n",
       "1  Los Angeles                                    CA    \n",
       "2  Los Angeles                                    CA    \n",
       "3  Los Angeles                                    CA    \n",
       "4  New York City                                  NY    "
      ]
     },
     "execution_count": 3,
     "metadata": {},
     "output_type": "execute_result"
    }
   ],
   "source": [
    "cust_df = pd.read_csv('clean_data/customer_df_clean.csv')\n",
    "cust_df.head()"
   ]
  },
  {
   "attachments": {},
   "cell_type": "markdown",
   "metadata": {},
   "source": [
    "### Feature Engineering"
   ]
  },
  {
   "cell_type": "code",
   "execution_count": 4,
   "metadata": {},
   "outputs": [],
   "source": [
    "cust_df['state_code']=cust_df['state_code'].str.strip()\n",
    "cust_df['city_name'] = cust_df['city_name'].str.strip()"
   ]
  },
  {
   "cell_type": "code",
   "execution_count": 5,
   "metadata": {},
   "outputs": [
    {
     "data": {
      "text/html": [
       "<div>\n",
       "<style scoped>\n",
       "    .dataframe tbody tr th:only-of-type {\n",
       "        vertical-align: middle;\n",
       "    }\n",
       "\n",
       "    .dataframe tbody tr th {\n",
       "        vertical-align: top;\n",
       "    }\n",
       "\n",
       "    .dataframe thead th {\n",
       "        text-align: right;\n",
       "    }\n",
       "</style>\n",
       "<table border=\"1\" class=\"dataframe\">\n",
       "  <thead>\n",
       "    <tr style=\"text-align: right;\">\n",
       "      <th></th>\n",
       "      <th>income</th>\n",
       "      <th>age</th>\n",
       "      <th>years_with_bank</th>\n",
       "      <th>nbr_children</th>\n",
       "      <th>gender</th>\n",
       "      <th>marital_status</th>\n",
       "      <th>city_name</th>\n",
       "      <th>state_code</th>\n",
       "    </tr>\n",
       "  </thead>\n",
       "  <tbody>\n",
       "    <tr>\n",
       "      <th>0</th>\n",
       "      <td>26150</td>\n",
       "      <td>46</td>\n",
       "      <td>5</td>\n",
       "      <td>1</td>\n",
       "      <td>M</td>\n",
       "      <td>2</td>\n",
       "      <td>Las Vegas</td>\n",
       "      <td>NV</td>\n",
       "    </tr>\n",
       "    <tr>\n",
       "      <th>1</th>\n",
       "      <td>6605</td>\n",
       "      <td>71</td>\n",
       "      <td>1</td>\n",
       "      <td>0</td>\n",
       "      <td>M</td>\n",
       "      <td>2</td>\n",
       "      <td>Los Angeles</td>\n",
       "      <td>CA</td>\n",
       "    </tr>\n",
       "    <tr>\n",
       "      <th>2</th>\n",
       "      <td>18548</td>\n",
       "      <td>38</td>\n",
       "      <td>8</td>\n",
       "      <td>0</td>\n",
       "      <td>F</td>\n",
       "      <td>1</td>\n",
       "      <td>Los Angeles</td>\n",
       "      <td>CA</td>\n",
       "    </tr>\n",
       "    <tr>\n",
       "      <th>3</th>\n",
       "      <td>47668</td>\n",
       "      <td>54</td>\n",
       "      <td>3</td>\n",
       "      <td>0</td>\n",
       "      <td>F</td>\n",
       "      <td>1</td>\n",
       "      <td>Los Angeles</td>\n",
       "      <td>CA</td>\n",
       "    </tr>\n",
       "    <tr>\n",
       "      <th>4</th>\n",
       "      <td>44554</td>\n",
       "      <td>59</td>\n",
       "      <td>9</td>\n",
       "      <td>2</td>\n",
       "      <td>F</td>\n",
       "      <td>4</td>\n",
       "      <td>New York City</td>\n",
       "      <td>NY</td>\n",
       "    </tr>\n",
       "  </tbody>\n",
       "</table>\n",
       "</div>"
      ],
      "text/plain": [
       "   income  age  years_with_bank  nbr_children gender  marital_status   \n",
       "0   26150   46                5             1     M                2  \\\n",
       "1    6605   71                1             0     M                2   \n",
       "2   18548   38                8             0     F                1   \n",
       "3   47668   54                3             0     F                1   \n",
       "4   44554   59                9             2     F                4   \n",
       "\n",
       "       city_name state_code  \n",
       "0      Las Vegas         NV  \n",
       "1    Los Angeles         CA  \n",
       "2    Los Angeles         CA  \n",
       "3    Los Angeles         CA  \n",
       "4  New York City         NY  "
      ]
     },
     "execution_count": 5,
     "metadata": {},
     "output_type": "execute_result"
    }
   ],
   "source": [
    "prepped_df = cust_df.drop(columns=['cust_id', 'name_prefix', 'first_name', 'last_name', 'street_nbr', 'street_name', 'postal_code'])\n",
    "prepped_df.head()"
   ]
  },
  {
   "cell_type": "code",
   "execution_count": 6,
   "metadata": {},
   "outputs": [],
   "source": [
    "prepped_df['gender'].replace({'M ': 1, 'F ':0}, inplace=True)"
   ]
  },
  {
   "cell_type": "code",
   "execution_count": 7,
   "metadata": {},
   "outputs": [],
   "source": [
    "population_dict = {'Las Vegas': 258295,\n",
    " 'Los Angeles': 3485398,\n",
    " 'New York City': 7322564,\n",
    " 'Chicago': 2783726,\n",
    " 'Honolulu': 365272,\n",
    " 'Washington': 606900,\n",
    " 'Houston': 1630553,\n",
    " 'San Francisco': 753959,\n",
    " 'Philadelphia': 1585577,\n",
    " 'Portland': 437319,\n",
    " 'Riverside': 226505,\n",
    " 'Toledo': 332943,\n",
    " 'Seattle': 516259,\n",
    " 'Sacramento': 369365,\n",
    " 'Newark': 275221,\n",
    " 'Indianapolis': 731327,\n",
    " 'Rochester': 231636,\n",
    " 'Denver': 467610,\n",
    " 'Milwaukee': 628088,\n",
    " 'Detroit': 1027974,\n",
    " 'Omaha': 335795,\n",
    " 'Tucson': 405390,\n",
    " 'Cleveland': 505616,\n",
    " 'San Jose': 782248,\n",
    " 'Minneapolis': 368383,\n",
    " 'Memphis': 610337,\n",
    " 'Long Beach': 429433,\n",
    " 'Norfolk': 261229,\n",
    " 'Austin': 465622,\n",
    " 'Pittsburgh': 369879,\n",
    " 'San Diego': 1110549,\n",
    " 'Miami': 358458,\n",
    " 'Nashville': 488374,\n",
    " 'Oakland': 372242,\n",
    " 'St Paul': 272235,\n",
    " 'Anaheim': 266406,\n",
    " 'Baltimore': 736014,\n",
    " 'Corpus Christi': 257453,\n",
    " 'St Louis': 396685,\n",
    " 'Phoenix': 983403,\n",
    " 'New Orleans': 496938,\n",
    " 'El Paso': 515342,\n",
    " 'Lexington': 225366,\n",
    " 'Kansas City': 435146,\n",
    " 'Oklahoma City': 444719,\n",
    " 'Tulsa': 367302,\n",
    " 'Louisville': 369063,\n",
    " 'Dallas': 1006877,\n",
    " 'Cincinnati': 364040,\n",
    " 'Virginia Beach': 393069,\n",
    " 'Dayton': 182044,\n",
    " 'Fresno': 354202,\n",
    " 'San Antonio': 935933,\n",
    " 'Columbus': 632910,\n",
    " 'Santa Ana': 293742,\n",
    " 'Boston': 574283,\n",
    " 'Mesa': 288091,\n",
    " 'Jacksonville': 635230,\n",
    " 'Fort Worth': 447619,\n",
    " 'Atlanta': 394017,\n",
    " 'Wichita': 304011,\n",
    " 'Tampa': 280015,\n",
    " 'Charlotte': 395934,\n",
    " 'Albuquerque': 384736,\n",
    " 'Jersey City': 228537,\n",
    " 'Birmingham': 265968,\n",
    " 'Colorado Springs': 281140,\n",
    " 'Arlington': 261721,\n",
    " 'Buffalo': 328123}"
   ]
  },
  {
   "cell_type": "code",
   "execution_count": 8,
   "metadata": {},
   "outputs": [
    {
     "data": {
      "text/html": [
       "<div>\n",
       "<style scoped>\n",
       "    .dataframe tbody tr th:only-of-type {\n",
       "        vertical-align: middle;\n",
       "    }\n",
       "\n",
       "    .dataframe tbody tr th {\n",
       "        vertical-align: top;\n",
       "    }\n",
       "\n",
       "    .dataframe thead th {\n",
       "        text-align: right;\n",
       "    }\n",
       "</style>\n",
       "<table border=\"1\" class=\"dataframe\">\n",
       "  <thead>\n",
       "    <tr style=\"text-align: right;\">\n",
       "      <th></th>\n",
       "      <th>state</th>\n",
       "      <th>latitude</th>\n",
       "      <th>longitude</th>\n",
       "      <th>name</th>\n",
       "    </tr>\n",
       "  </thead>\n",
       "  <tbody>\n",
       "    <tr>\n",
       "      <th>0</th>\n",
       "      <td>AK</td>\n",
       "      <td>63.588753</td>\n",
       "      <td>-154.493062</td>\n",
       "      <td>Alaska</td>\n",
       "    </tr>\n",
       "    <tr>\n",
       "      <th>1</th>\n",
       "      <td>AL</td>\n",
       "      <td>32.318231</td>\n",
       "      <td>-86.902298</td>\n",
       "      <td>Alabama</td>\n",
       "    </tr>\n",
       "    <tr>\n",
       "      <th>2</th>\n",
       "      <td>AR</td>\n",
       "      <td>35.201050</td>\n",
       "      <td>-91.831833</td>\n",
       "      <td>Arkansas</td>\n",
       "    </tr>\n",
       "    <tr>\n",
       "      <th>3</th>\n",
       "      <td>AZ</td>\n",
       "      <td>34.048928</td>\n",
       "      <td>-111.093731</td>\n",
       "      <td>Arizona</td>\n",
       "    </tr>\n",
       "    <tr>\n",
       "      <th>4</th>\n",
       "      <td>CA</td>\n",
       "      <td>36.778261</td>\n",
       "      <td>-119.417932</td>\n",
       "      <td>California</td>\n",
       "    </tr>\n",
       "  </tbody>\n",
       "</table>\n",
       "</div>"
      ],
      "text/plain": [
       "  state   latitude   longitude        name\n",
       "0    AK  63.588753 -154.493062      Alaska\n",
       "1    AL  32.318231  -86.902298     Alabama\n",
       "2    AR  35.201050  -91.831833    Arkansas\n",
       "3    AZ  34.048928 -111.093731     Arizona\n",
       "4    CA  36.778261 -119.417932  California"
      ]
     },
     "execution_count": 8,
     "metadata": {},
     "output_type": "execute_result"
    }
   ],
   "source": [
    "import requests\n",
    "url = 'https://developers.google.com/public-data/docs/canonical/states_csv'\n",
    "data_url = requests.get(url)\n",
    "body= data_url.text\n",
    "page = pd.read_html(body)\n",
    "statecoord_df = page[0]\n",
    "statecoord_df.head()"
   ]
  },
  {
   "cell_type": "code",
   "execution_count": 9,
   "metadata": {},
   "outputs": [],
   "source": [
    "statecoord_df.drop(columns='name', inplace=True)\n",
    "statecoord_df.rename(columns={'state':'state_code'}, inplace=True)"
   ]
  },
  {
   "cell_type": "code",
   "execution_count": 10,
   "metadata": {},
   "outputs": [
    {
     "data": {
      "text/html": [
       "<div>\n",
       "<style scoped>\n",
       "    .dataframe tbody tr th:only-of-type {\n",
       "        vertical-align: middle;\n",
       "    }\n",
       "\n",
       "    .dataframe tbody tr th {\n",
       "        vertical-align: top;\n",
       "    }\n",
       "\n",
       "    .dataframe thead th {\n",
       "        text-align: right;\n",
       "    }\n",
       "</style>\n",
       "<table border=\"1\" class=\"dataframe\">\n",
       "  <thead>\n",
       "    <tr style=\"text-align: right;\">\n",
       "      <th></th>\n",
       "      <th>income</th>\n",
       "      <th>age</th>\n",
       "      <th>years_with_bank</th>\n",
       "      <th>nbr_children</th>\n",
       "      <th>gender</th>\n",
       "      <th>marital_status</th>\n",
       "      <th>city_name</th>\n",
       "      <th>state_code</th>\n",
       "      <th>population</th>\n",
       "      <th>latitude</th>\n",
       "      <th>longitude</th>\n",
       "    </tr>\n",
       "  </thead>\n",
       "  <tbody>\n",
       "    <tr>\n",
       "      <th>0</th>\n",
       "      <td>26150</td>\n",
       "      <td>46</td>\n",
       "      <td>5</td>\n",
       "      <td>1</td>\n",
       "      <td>1</td>\n",
       "      <td>2</td>\n",
       "      <td>Las Vegas</td>\n",
       "      <td>NV</td>\n",
       "      <td>258295</td>\n",
       "      <td>38.802610</td>\n",
       "      <td>-116.419389</td>\n",
       "    </tr>\n",
       "    <tr>\n",
       "      <th>1</th>\n",
       "      <td>6605</td>\n",
       "      <td>71</td>\n",
       "      <td>1</td>\n",
       "      <td>0</td>\n",
       "      <td>1</td>\n",
       "      <td>2</td>\n",
       "      <td>Los Angeles</td>\n",
       "      <td>CA</td>\n",
       "      <td>3485398</td>\n",
       "      <td>36.778261</td>\n",
       "      <td>-119.417932</td>\n",
       "    </tr>\n",
       "    <tr>\n",
       "      <th>2</th>\n",
       "      <td>18548</td>\n",
       "      <td>38</td>\n",
       "      <td>8</td>\n",
       "      <td>0</td>\n",
       "      <td>0</td>\n",
       "      <td>1</td>\n",
       "      <td>Los Angeles</td>\n",
       "      <td>CA</td>\n",
       "      <td>3485398</td>\n",
       "      <td>36.778261</td>\n",
       "      <td>-119.417932</td>\n",
       "    </tr>\n",
       "    <tr>\n",
       "      <th>3</th>\n",
       "      <td>47668</td>\n",
       "      <td>54</td>\n",
       "      <td>3</td>\n",
       "      <td>0</td>\n",
       "      <td>0</td>\n",
       "      <td>1</td>\n",
       "      <td>Los Angeles</td>\n",
       "      <td>CA</td>\n",
       "      <td>3485398</td>\n",
       "      <td>36.778261</td>\n",
       "      <td>-119.417932</td>\n",
       "    </tr>\n",
       "    <tr>\n",
       "      <th>4</th>\n",
       "      <td>44554</td>\n",
       "      <td>59</td>\n",
       "      <td>9</td>\n",
       "      <td>2</td>\n",
       "      <td>0</td>\n",
       "      <td>4</td>\n",
       "      <td>New York City</td>\n",
       "      <td>NY</td>\n",
       "      <td>7322564</td>\n",
       "      <td>43.299428</td>\n",
       "      <td>-74.217933</td>\n",
       "    </tr>\n",
       "  </tbody>\n",
       "</table>\n",
       "</div>"
      ],
      "text/plain": [
       "   income  age  years_with_bank  nbr_children  gender  marital_status   \n",
       "0   26150   46                5             1       1               2  \\\n",
       "1    6605   71                1             0       1               2   \n",
       "2   18548   38                8             0       0               1   \n",
       "3   47668   54                3             0       0               1   \n",
       "4   44554   59                9             2       0               4   \n",
       "\n",
       "       city_name state_code  population   latitude   longitude  \n",
       "0      Las Vegas         NV      258295  38.802610 -116.419389  \n",
       "1    Los Angeles         CA     3485398  36.778261 -119.417932  \n",
       "2    Los Angeles         CA     3485398  36.778261 -119.417932  \n",
       "3    Los Angeles         CA     3485398  36.778261 -119.417932  \n",
       "4  New York City         NY     7322564  43.299428  -74.217933  "
      ]
     },
     "execution_count": 10,
     "metadata": {},
     "output_type": "execute_result"
    }
   ],
   "source": [
    "prepped_df['population'] = prepped_df['city_name'].map(population_dict)\n",
    "prepped_df = pd.merge(prepped_df, statecoord_df, how='left', on='state_code')\n",
    "prepped_df.head()"
   ]
  },
  {
   "cell_type": "code",
   "execution_count": 11,
   "metadata": {},
   "outputs": [
    {
     "data": {
      "text/html": [
       "<div>\n",
       "<style scoped>\n",
       "    .dataframe tbody tr th:only-of-type {\n",
       "        vertical-align: middle;\n",
       "    }\n",
       "\n",
       "    .dataframe tbody tr th {\n",
       "        vertical-align: top;\n",
       "    }\n",
       "\n",
       "    .dataframe thead th {\n",
       "        text-align: right;\n",
       "    }\n",
       "</style>\n",
       "<table border=\"1\" class=\"dataframe\">\n",
       "  <thead>\n",
       "    <tr style=\"text-align: right;\">\n",
       "      <th></th>\n",
       "      <th>income</th>\n",
       "      <th>age</th>\n",
       "      <th>years_with_bank</th>\n",
       "      <th>nbr_children</th>\n",
       "      <th>gender</th>\n",
       "      <th>marital_status</th>\n",
       "      <th>city_name</th>\n",
       "      <th>state_code</th>\n",
       "      <th>population</th>\n",
       "      <th>latitude</th>\n",
       "      <th>longitude</th>\n",
       "    </tr>\n",
       "  </thead>\n",
       "  <tbody>\n",
       "    <tr>\n",
       "      <th>33</th>\n",
       "      <td>36330</td>\n",
       "      <td>46</td>\n",
       "      <td>6</td>\n",
       "      <td>1</td>\n",
       "      <td>1</td>\n",
       "      <td>2</td>\n",
       "      <td>Omaha</td>\n",
       "      <td>NB</td>\n",
       "      <td>335795</td>\n",
       "      <td>NaN</td>\n",
       "      <td>NaN</td>\n",
       "    </tr>\n",
       "    <tr>\n",
       "      <th>127</th>\n",
       "      <td>13811</td>\n",
       "      <td>50</td>\n",
       "      <td>0</td>\n",
       "      <td>0</td>\n",
       "      <td>0</td>\n",
       "      <td>3</td>\n",
       "      <td>Omaha</td>\n",
       "      <td>NB</td>\n",
       "      <td>335795</td>\n",
       "      <td>NaN</td>\n",
       "      <td>NaN</td>\n",
       "    </tr>\n",
       "    <tr>\n",
       "      <th>380</th>\n",
       "      <td>20179</td>\n",
       "      <td>49</td>\n",
       "      <td>9</td>\n",
       "      <td>1</td>\n",
       "      <td>0</td>\n",
       "      <td>2</td>\n",
       "      <td>Omaha</td>\n",
       "      <td>NB</td>\n",
       "      <td>335795</td>\n",
       "      <td>NaN</td>\n",
       "      <td>NaN</td>\n",
       "    </tr>\n",
       "  </tbody>\n",
       "</table>\n",
       "</div>"
      ],
      "text/plain": [
       "     income  age  years_with_bank  nbr_children  gender  marital_status   \n",
       "33    36330   46                6             1       1               2  \\\n",
       "127   13811   50                0             0       0               3   \n",
       "380   20179   49                9             1       0               2   \n",
       "\n",
       "    city_name state_code  population  latitude  longitude  \n",
       "33      Omaha         NB      335795       NaN        NaN  \n",
       "127     Omaha         NB      335795       NaN        NaN  \n",
       "380     Omaha         NB      335795       NaN        NaN  "
      ]
     },
     "execution_count": 11,
     "metadata": {},
     "output_type": "execute_result"
    }
   ],
   "source": [
    "prepped_df[prepped_df['latitude'].isna()]"
   ]
  },
  {
   "cell_type": "code",
   "execution_count": 12,
   "metadata": {},
   "outputs": [
    {
     "data": {
      "text/plain": [
       "income             0\n",
       "age                0\n",
       "years_with_bank    0\n",
       "nbr_children       0\n",
       "gender             0\n",
       "marital_status     0\n",
       "city_name          0\n",
       "state_code         0\n",
       "population         0\n",
       "latitude           0\n",
       "longitude          0\n",
       "dtype: int64"
      ]
     },
     "execution_count": 12,
     "metadata": {},
     "output_type": "execute_result"
    }
   ],
   "source": [
    "prepped_df['latitude'].fillna(41.492537, inplace=True)\n",
    "prepped_df['longitude'].fillna(-99.901813, inplace=True)\n",
    "prepped_df.isna().sum()"
   ]
  },
  {
   "cell_type": "code",
   "execution_count": 13,
   "metadata": {},
   "outputs": [
    {
     "data": {
      "text/html": [
       "<div>\n",
       "<style scoped>\n",
       "    .dataframe tbody tr th:only-of-type {\n",
       "        vertical-align: middle;\n",
       "    }\n",
       "\n",
       "    .dataframe tbody tr th {\n",
       "        vertical-align: top;\n",
       "    }\n",
       "\n",
       "    .dataframe thead th {\n",
       "        text-align: right;\n",
       "    }\n",
       "</style>\n",
       "<table border=\"1\" class=\"dataframe\">\n",
       "  <thead>\n",
       "    <tr style=\"text-align: right;\">\n",
       "      <th></th>\n",
       "      <th>income</th>\n",
       "      <th>age</th>\n",
       "      <th>years_with_bank</th>\n",
       "      <th>nbr_children</th>\n",
       "      <th>gender</th>\n",
       "      <th>marital_status</th>\n",
       "      <th>population</th>\n",
       "      <th>latitude</th>\n",
       "      <th>longitude</th>\n",
       "    </tr>\n",
       "  </thead>\n",
       "  <tbody>\n",
       "    <tr>\n",
       "      <th>0</th>\n",
       "      <td>26150</td>\n",
       "      <td>46</td>\n",
       "      <td>5</td>\n",
       "      <td>1</td>\n",
       "      <td>1</td>\n",
       "      <td>2</td>\n",
       "      <td>258295</td>\n",
       "      <td>38.802610</td>\n",
       "      <td>-116.419389</td>\n",
       "    </tr>\n",
       "    <tr>\n",
       "      <th>1</th>\n",
       "      <td>6605</td>\n",
       "      <td>71</td>\n",
       "      <td>1</td>\n",
       "      <td>0</td>\n",
       "      <td>1</td>\n",
       "      <td>2</td>\n",
       "      <td>3485398</td>\n",
       "      <td>36.778261</td>\n",
       "      <td>-119.417932</td>\n",
       "    </tr>\n",
       "    <tr>\n",
       "      <th>2</th>\n",
       "      <td>18548</td>\n",
       "      <td>38</td>\n",
       "      <td>8</td>\n",
       "      <td>0</td>\n",
       "      <td>0</td>\n",
       "      <td>1</td>\n",
       "      <td>3485398</td>\n",
       "      <td>36.778261</td>\n",
       "      <td>-119.417932</td>\n",
       "    </tr>\n",
       "    <tr>\n",
       "      <th>3</th>\n",
       "      <td>47668</td>\n",
       "      <td>54</td>\n",
       "      <td>3</td>\n",
       "      <td>0</td>\n",
       "      <td>0</td>\n",
       "      <td>1</td>\n",
       "      <td>3485398</td>\n",
       "      <td>36.778261</td>\n",
       "      <td>-119.417932</td>\n",
       "    </tr>\n",
       "    <tr>\n",
       "      <th>4</th>\n",
       "      <td>44554</td>\n",
       "      <td>59</td>\n",
       "      <td>9</td>\n",
       "      <td>2</td>\n",
       "      <td>0</td>\n",
       "      <td>4</td>\n",
       "      <td>7322564</td>\n",
       "      <td>43.299428</td>\n",
       "      <td>-74.217933</td>\n",
       "    </tr>\n",
       "  </tbody>\n",
       "</table>\n",
       "</div>"
      ],
      "text/plain": [
       "   income  age  years_with_bank  nbr_children  gender  marital_status   \n",
       "0   26150   46                5             1       1               2  \\\n",
       "1    6605   71                1             0       1               2   \n",
       "2   18548   38                8             0       0               1   \n",
       "3   47668   54                3             0       0               1   \n",
       "4   44554   59                9             2       0               4   \n",
       "\n",
       "   population   latitude   longitude  \n",
       "0      258295  38.802610 -116.419389  \n",
       "1     3485398  36.778261 -119.417932  \n",
       "2     3485398  36.778261 -119.417932  \n",
       "3     3485398  36.778261 -119.417932  \n",
       "4     7322564  43.299428  -74.217933  "
      ]
     },
     "execution_count": 13,
     "metadata": {},
     "output_type": "execute_result"
    }
   ],
   "source": [
    "prepped_df.drop(columns=['state_code', 'city_name'], inplace=True)\n",
    "prepped_df.head()"
   ]
  },
  {
   "attachments": {},
   "cell_type": "markdown",
   "metadata": {},
   "source": [
    "### Scaling and Clustering"
   ]
  },
  {
   "cell_type": "code",
   "execution_count": 14,
   "metadata": {},
   "outputs": [
    {
     "data": {
      "text/html": [
       "<div>\n",
       "<style scoped>\n",
       "    .dataframe tbody tr th:only-of-type {\n",
       "        vertical-align: middle;\n",
       "    }\n",
       "\n",
       "    .dataframe tbody tr th {\n",
       "        vertical-align: top;\n",
       "    }\n",
       "\n",
       "    .dataframe thead th {\n",
       "        text-align: right;\n",
       "    }\n",
       "</style>\n",
       "<table border=\"1\" class=\"dataframe\">\n",
       "  <thead>\n",
       "    <tr style=\"text-align: right;\">\n",
       "      <th></th>\n",
       "      <th>income</th>\n",
       "      <th>age</th>\n",
       "      <th>years_with_bank</th>\n",
       "      <th>nbr_children</th>\n",
       "      <th>gender</th>\n",
       "      <th>marital_status</th>\n",
       "      <th>population</th>\n",
       "      <th>latitude</th>\n",
       "      <th>longitude</th>\n",
       "    </tr>\n",
       "  </thead>\n",
       "  <tbody>\n",
       "    <tr>\n",
       "      <th>0</th>\n",
       "      <td>0.154185</td>\n",
       "      <td>0.184312</td>\n",
       "      <td>0.408539</td>\n",
       "      <td>0.258591</td>\n",
       "      <td>1.127172</td>\n",
       "      <td>0.132149</td>\n",
       "      <td>-0.746010</td>\n",
       "      <td>0.160190</td>\n",
       "      <td>-1.012863</td>\n",
       "    </tr>\n",
       "    <tr>\n",
       "      <th>1</th>\n",
       "      <td>-0.726524</td>\n",
       "      <td>1.493070</td>\n",
       "      <td>-1.087435</td>\n",
       "      <td>-0.648298</td>\n",
       "      <td>1.127172</td>\n",
       "      <td>0.132149</td>\n",
       "      <td>0.642623</td>\n",
       "      <td>-0.255584</td>\n",
       "      <td>-1.172784</td>\n",
       "    </tr>\n",
       "    <tr>\n",
       "      <th>2</th>\n",
       "      <td>-0.188366</td>\n",
       "      <td>-0.234490</td>\n",
       "      <td>1.530520</td>\n",
       "      <td>-0.648298</td>\n",
       "      <td>-0.887176</td>\n",
       "      <td>-0.989614</td>\n",
       "      <td>0.642623</td>\n",
       "      <td>-0.255584</td>\n",
       "      <td>-1.172784</td>\n",
       "    </tr>\n",
       "    <tr>\n",
       "      <th>3</th>\n",
       "      <td>1.123798</td>\n",
       "      <td>0.603115</td>\n",
       "      <td>-0.339448</td>\n",
       "      <td>-0.648298</td>\n",
       "      <td>-0.887176</td>\n",
       "      <td>-0.989614</td>\n",
       "      <td>0.642623</td>\n",
       "      <td>-0.255584</td>\n",
       "      <td>-1.172784</td>\n",
       "    </tr>\n",
       "    <tr>\n",
       "      <th>4</th>\n",
       "      <td>0.983479</td>\n",
       "      <td>0.864867</td>\n",
       "      <td>1.904514</td>\n",
       "      <td>1.165479</td>\n",
       "      <td>-0.887176</td>\n",
       "      <td>2.375675</td>\n",
       "      <td>2.293769</td>\n",
       "      <td>1.083776</td>\n",
       "      <td>1.237857</td>\n",
       "    </tr>\n",
       "  </tbody>\n",
       "</table>\n",
       "</div>"
      ],
      "text/plain": [
       "     income       age  years_with_bank  nbr_children    gender   \n",
       "0  0.154185  0.184312         0.408539      0.258591  1.127172  \\\n",
       "1 -0.726524  1.493070        -1.087435     -0.648298  1.127172   \n",
       "2 -0.188366 -0.234490         1.530520     -0.648298 -0.887176   \n",
       "3  1.123798  0.603115        -0.339448     -0.648298 -0.887176   \n",
       "4  0.983479  0.864867         1.904514      1.165479 -0.887176   \n",
       "\n",
       "   marital_status  population  latitude  longitude  \n",
       "0        0.132149   -0.746010  0.160190  -1.012863  \n",
       "1        0.132149    0.642623 -0.255584  -1.172784  \n",
       "2       -0.989614    0.642623 -0.255584  -1.172784  \n",
       "3       -0.989614    0.642623 -0.255584  -1.172784  \n",
       "4        2.375675    2.293769  1.083776   1.237857  "
      ]
     },
     "execution_count": 14,
     "metadata": {},
     "output_type": "execute_result"
    }
   ],
   "source": [
    "scaler = StandardScaler().set_output(transform='pandas')\n",
    "scaled_df = scaler.fit_transform(prepped_df)\n",
    "scaled_df.head()"
   ]
  },
  {
   "cell_type": "code",
   "execution_count": 15,
   "metadata": {},
   "outputs": [
    {
     "name": "stderr",
     "output_type": "stream",
     "text": [
      "c:\\Users\\HP USER\\anaconda3\\envs\\lhl_data\\lib\\site-packages\\sklearn\\cluster\\_kmeans.py:870: FutureWarning: The default value of `n_init` will change from 10 to 'auto' in 1.4. Set the value of `n_init` explicitly to suppress the warning\n",
      "  warnings.warn(\n",
      "c:\\Users\\HP USER\\anaconda3\\envs\\lhl_data\\lib\\site-packages\\sklearn\\cluster\\_kmeans.py:1382: UserWarning: KMeans is known to have a memory leak on Windows with MKL, when there are less chunks than available threads. You can avoid it by setting the environment variable OMP_NUM_THREADS=3.\n",
      "  warnings.warn(\n",
      "c:\\Users\\HP USER\\anaconda3\\envs\\lhl_data\\lib\\site-packages\\sklearn\\cluster\\_kmeans.py:870: FutureWarning: The default value of `n_init` will change from 10 to 'auto' in 1.4. Set the value of `n_init` explicitly to suppress the warning\n",
      "  warnings.warn(\n",
      "c:\\Users\\HP USER\\anaconda3\\envs\\lhl_data\\lib\\site-packages\\sklearn\\cluster\\_kmeans.py:1382: UserWarning: KMeans is known to have a memory leak on Windows with MKL, when there are less chunks than available threads. You can avoid it by setting the environment variable OMP_NUM_THREADS=3.\n",
      "  warnings.warn(\n",
      "c:\\Users\\HP USER\\anaconda3\\envs\\lhl_data\\lib\\site-packages\\sklearn\\cluster\\_kmeans.py:870: FutureWarning: The default value of `n_init` will change from 10 to 'auto' in 1.4. Set the value of `n_init` explicitly to suppress the warning\n",
      "  warnings.warn(\n",
      "c:\\Users\\HP USER\\anaconda3\\envs\\lhl_data\\lib\\site-packages\\sklearn\\cluster\\_kmeans.py:1382: UserWarning: KMeans is known to have a memory leak on Windows with MKL, when there are less chunks than available threads. You can avoid it by setting the environment variable OMP_NUM_THREADS=3.\n",
      "  warnings.warn(\n",
      "c:\\Users\\HP USER\\anaconda3\\envs\\lhl_data\\lib\\site-packages\\sklearn\\cluster\\_kmeans.py:870: FutureWarning: The default value of `n_init` will change from 10 to 'auto' in 1.4. Set the value of `n_init` explicitly to suppress the warning\n",
      "  warnings.warn(\n",
      "c:\\Users\\HP USER\\anaconda3\\envs\\lhl_data\\lib\\site-packages\\sklearn\\cluster\\_kmeans.py:1382: UserWarning: KMeans is known to have a memory leak on Windows with MKL, when there are less chunks than available threads. You can avoid it by setting the environment variable OMP_NUM_THREADS=3.\n",
      "  warnings.warn(\n",
      "c:\\Users\\HP USER\\anaconda3\\envs\\lhl_data\\lib\\site-packages\\sklearn\\cluster\\_kmeans.py:870: FutureWarning: The default value of `n_init` will change from 10 to 'auto' in 1.4. Set the value of `n_init` explicitly to suppress the warning\n",
      "  warnings.warn(\n",
      "c:\\Users\\HP USER\\anaconda3\\envs\\lhl_data\\lib\\site-packages\\sklearn\\cluster\\_kmeans.py:1382: UserWarning: KMeans is known to have a memory leak on Windows with MKL, when there are less chunks than available threads. You can avoid it by setting the environment variable OMP_NUM_THREADS=3.\n",
      "  warnings.warn(\n",
      "c:\\Users\\HP USER\\anaconda3\\envs\\lhl_data\\lib\\site-packages\\sklearn\\cluster\\_kmeans.py:870: FutureWarning: The default value of `n_init` will change from 10 to 'auto' in 1.4. Set the value of `n_init` explicitly to suppress the warning\n",
      "  warnings.warn(\n",
      "c:\\Users\\HP USER\\anaconda3\\envs\\lhl_data\\lib\\site-packages\\sklearn\\cluster\\_kmeans.py:1382: UserWarning: KMeans is known to have a memory leak on Windows with MKL, when there are less chunks than available threads. You can avoid it by setting the environment variable OMP_NUM_THREADS=3.\n",
      "  warnings.warn(\n",
      "c:\\Users\\HP USER\\anaconda3\\envs\\lhl_data\\lib\\site-packages\\sklearn\\cluster\\_kmeans.py:870: FutureWarning: The default value of `n_init` will change from 10 to 'auto' in 1.4. Set the value of `n_init` explicitly to suppress the warning\n",
      "  warnings.warn(\n",
      "c:\\Users\\HP USER\\anaconda3\\envs\\lhl_data\\lib\\site-packages\\sklearn\\cluster\\_kmeans.py:1382: UserWarning: KMeans is known to have a memory leak on Windows with MKL, when there are less chunks than available threads. You can avoid it by setting the environment variable OMP_NUM_THREADS=3.\n",
      "  warnings.warn(\n",
      "c:\\Users\\HP USER\\anaconda3\\envs\\lhl_data\\lib\\site-packages\\sklearn\\cluster\\_kmeans.py:870: FutureWarning: The default value of `n_init` will change from 10 to 'auto' in 1.4. Set the value of `n_init` explicitly to suppress the warning\n",
      "  warnings.warn(\n",
      "c:\\Users\\HP USER\\anaconda3\\envs\\lhl_data\\lib\\site-packages\\sklearn\\cluster\\_kmeans.py:1382: UserWarning: KMeans is known to have a memory leak on Windows with MKL, when there are less chunks than available threads. You can avoid it by setting the environment variable OMP_NUM_THREADS=3.\n",
      "  warnings.warn(\n"
     ]
    },
    {
     "data": {
      "image/png": "[encoded data removed]",
      "text/plain": [
       "<Figure size 1600x800 with 1 Axes>"
      ]
     },
     "metadata": {},
     "output_type": "display_data"
    }
   ],
   "source": [
    "# check silhouett score for k value\n",
    "from sklearn.metrics import silhouette_score\n",
    "\n",
    "silhouettes = []\n",
    "K = range(2, 10)\n",
    "for k in K:\n",
    "    kmeanModel= KMeans(n_clusters=k)\n",
    "    kmeanModel.fit(scaled_df)\n",
    "    label=kmeanModel.predict(scaled_df)\n",
    "    silhouettes.append(silhouette_score(scaled_df, label))\n",
    "# plot silhouette\n",
    "plt.figure(figsize=(16,8))\n",
    "plt.plot(K, silhouettes, 'bx-')\n",
    "plt.xlabel('k')\n",
    "plt.ylabel('silhouette coeff')\n",
    "plt.title('Silhouette Coefficient vs K')\n",
    "plt.grid()\n",
    "plt.show()"
   ]
  },
  {
   "cell_type": "code",
   "execution_count": 16,
   "metadata": {},
   "outputs": [
    {
     "name": "stderr",
     "output_type": "stream",
     "text": [
      "c:\\Users\\HP USER\\anaconda3\\envs\\lhl_data\\lib\\site-packages\\sklearn\\cluster\\_kmeans.py:870: FutureWarning: The default value of `n_init` will change from 10 to 'auto' in 1.4. Set the value of `n_init` explicitly to suppress the warning\n",
      "  warnings.warn(\n",
      "c:\\Users\\HP USER\\anaconda3\\envs\\lhl_data\\lib\\site-packages\\sklearn\\cluster\\_kmeans.py:1382: UserWarning: KMeans is known to have a memory leak on Windows with MKL, when there are less chunks than available threads. You can avoid it by setting the environment variable OMP_NUM_THREADS=3.\n",
      "  warnings.warn(\n"
     ]
    },
    {
     "data": {
      "text/html": [
       "<div>\n",
       "<style scoped>\n",
       "    .dataframe tbody tr th:only-of-type {\n",
       "        vertical-align: middle;\n",
       "    }\n",
       "\n",
       "    .dataframe tbody tr th {\n",
       "        vertical-align: top;\n",
       "    }\n",
       "\n",
       "    .dataframe thead th {\n",
       "        text-align: right;\n",
       "    }\n",
       "</style>\n",
       "<table border=\"1\" class=\"dataframe\">\n",
       "  <thead>\n",
       "    <tr style=\"text-align: right;\">\n",
       "      <th></th>\n",
       "      <th>cust_id</th>\n",
       "      <th>income</th>\n",
       "      <th>age</th>\n",
       "      <th>years_with_bank</th>\n",
       "      <th>nbr_children</th>\n",
       "      <th>gender</th>\n",
       "      <th>marital_status</th>\n",
       "      <th>name_prefix</th>\n",
       "      <th>first_name</th>\n",
       "      <th>last_name</th>\n",
       "      <th>street_nbr</th>\n",
       "      <th>street_name</th>\n",
       "      <th>postal_code</th>\n",
       "      <th>city_name</th>\n",
       "      <th>state_code</th>\n",
       "      <th>label</th>\n",
       "    </tr>\n",
       "  </thead>\n",
       "  <tbody>\n",
       "    <tr>\n",
       "      <th>0</th>\n",
       "      <td>1362691</td>\n",
       "      <td>26150</td>\n",
       "      <td>46</td>\n",
       "      <td>5</td>\n",
       "      <td>1</td>\n",
       "      <td>M</td>\n",
       "      <td>2</td>\n",
       "      <td></td>\n",
       "      <td>Donald                                        ...</td>\n",
       "      <td>Marek                                         ...</td>\n",
       "      <td>8298</td>\n",
       "      <td>Second                                        ...</td>\n",
       "      <td>89194</td>\n",
       "      <td>Las Vegas</td>\n",
       "      <td>NV</td>\n",
       "      <td>3</td>\n",
       "    </tr>\n",
       "    <tr>\n",
       "      <th>1</th>\n",
       "      <td>1362487</td>\n",
       "      <td>6605</td>\n",
       "      <td>71</td>\n",
       "      <td>1</td>\n",
       "      <td>0</td>\n",
       "      <td>M</td>\n",
       "      <td>2</td>\n",
       "      <td></td>\n",
       "      <td>ChingDyi                                      ...</td>\n",
       "      <td>Moussavi                                      ...</td>\n",
       "      <td>10603</td>\n",
       "      <td>Daffodil                                      ...</td>\n",
       "      <td>90159</td>\n",
       "      <td>Los Angeles</td>\n",
       "      <td>CA</td>\n",
       "      <td>3</td>\n",
       "    </tr>\n",
       "    <tr>\n",
       "      <th>2</th>\n",
       "      <td>1363160</td>\n",
       "      <td>18548</td>\n",
       "      <td>38</td>\n",
       "      <td>8</td>\n",
       "      <td>0</td>\n",
       "      <td>F</td>\n",
       "      <td>1</td>\n",
       "      <td></td>\n",
       "      <td>Rosa                                          ...</td>\n",
       "      <td>Johnston                                      ...</td>\n",
       "      <td>8817</td>\n",
       "      <td>Figueroa                                      ...</td>\n",
       "      <td>90024</td>\n",
       "      <td>Los Angeles</td>\n",
       "      <td>CA</td>\n",
       "      <td>0</td>\n",
       "    </tr>\n",
       "    <tr>\n",
       "      <th>3</th>\n",
       "      <td>1362752</td>\n",
       "      <td>47668</td>\n",
       "      <td>54</td>\n",
       "      <td>3</td>\n",
       "      <td>0</td>\n",
       "      <td>F</td>\n",
       "      <td>1</td>\n",
       "      <td></td>\n",
       "      <td>Lisa                                          ...</td>\n",
       "      <td>Martin                                        ...</td>\n",
       "      <td>676</td>\n",
       "      <td>Humble                                        ...</td>\n",
       "      <td>90172</td>\n",
       "      <td>Los Angeles</td>\n",
       "      <td>CA</td>\n",
       "      <td>0</td>\n",
       "    </tr>\n",
       "    <tr>\n",
       "      <th>4</th>\n",
       "      <td>1362548</td>\n",
       "      <td>44554</td>\n",
       "      <td>59</td>\n",
       "      <td>9</td>\n",
       "      <td>2</td>\n",
       "      <td>F</td>\n",
       "      <td>4</td>\n",
       "      <td></td>\n",
       "      <td>Barbara                                       ...</td>\n",
       "      <td>O'Malley                                      ...</td>\n",
       "      <td>6578</td>\n",
       "      <td>C                                             ...</td>\n",
       "      <td>10138</td>\n",
       "      <td>New York City</td>\n",
       "      <td>NY</td>\n",
       "      <td>1</td>\n",
       "    </tr>\n",
       "  </tbody>\n",
       "</table>\n",
       "</div>"
      ],
      "text/plain": [
       "   cust_id  income  age  years_with_bank  nbr_children gender  marital_status   \n",
       "0  1362691   26150   46                5             1     M                2  \\\n",
       "1  1362487    6605   71                1             0     M                2   \n",
       "2  1363160   18548   38                8             0     F                1   \n",
       "3  1362752   47668   54                3             0     F                1   \n",
       "4  1362548   44554   59                9             2     F                4   \n",
       "\n",
       "  name_prefix                                         first_name   \n",
       "0              Donald                                        ...  \\\n",
       "1              ChingDyi                                      ...   \n",
       "2              Rosa                                          ...   \n",
       "3              Lisa                                          ...   \n",
       "4              Barbara                                       ...   \n",
       "\n",
       "                                           last_name  street_nbr   \n",
       "0  Marek                                         ...        8298  \\\n",
       "1  Moussavi                                      ...       10603   \n",
       "2  Johnston                                      ...        8817   \n",
       "3  Martin                                        ...         676   \n",
       "4  O'Malley                                      ...        6578   \n",
       "\n",
       "                                         street_name  postal_code   \n",
       "0  Second                                        ...        89194  \\\n",
       "1  Daffodil                                      ...        90159   \n",
       "2  Figueroa                                      ...        90024   \n",
       "3  Humble                                        ...        90172   \n",
       "4  C                                             ...        10138   \n",
       "\n",
       "       city_name state_code  label  \n",
       "0      Las Vegas         NV      3  \n",
       "1    Los Angeles         CA      3  \n",
       "2    Los Angeles         CA      0  \n",
       "3    Los Angeles         CA      0  \n",
       "4  New York City         NY      1  "
      ]
     },
     "execution_count": 16,
     "metadata": {},
     "output_type": "execute_result"
    }
   ],
   "source": [
    "# apply KMeans model with 5 clusters\n",
    "model = KMeans(5)\n",
    "model.fit(scaled_df)\n",
    "\n",
    "df_with_clusters = cust_df.copy()\n",
    "df_with_clusters['label'] = model.predict(scaled_df)\n",
    "df_with_clusters.head()"
   ]
  },
  {
   "cell_type": "code",
   "execution_count": 17,
   "metadata": {},
   "outputs": [
    {
     "name": "stderr",
     "output_type": "stream",
     "text": [
      "c:\\Users\\HP USER\\anaconda3\\envs\\lhl_data\\lib\\site-packages\\sklearn\\base.py:439: UserWarning: X does not have valid feature names, but PCA was fitted with feature names\n",
      "  warnings.warn(\n"
     ]
    },
    {
     "data": {
      "text/plain": [
       "<matplotlib.collections.PathCollection at 0x1abefdb9d60>"
      ]
     },
     "execution_count": 17,
     "metadata": {},
     "output_type": "execute_result"
    },
    {
     "data": {
      "image/png": "[encoded data removed]",
      "text/plain": [
       "<Figure size 640x480 with 1 Axes>"
      ]
     },
     "metadata": {},
     "output_type": "display_data"
    }
   ],
   "source": [
    "# perform PCA for visualization\n",
    "pca = PCA(n_components=2).set_output(transform='pandas')\n",
    "df_pca = pca.fit_transform(scaled_df)\n",
    "\n",
    "df_pca_with_clusters = df_pca.copy()\n",
    "df_pca_with_clusters\n",
    "df_pca_with_clusters['label'] = df_with_clusters['label']\n",
    "\n",
    "df_pca_with_clusters\n",
    "pca_centroids = pca.transform(model.cluster_centers_)\n",
    "\n",
    "plt.scatter(df_pca_with_clusters['pca0'], df_pca_with_clusters['pca1'], c=df_pca_with_clusters['label'], s=5)\n",
    "plt.scatter(pca_centroids['pca0'], pca_centroids['pca1'], c='red')\n"
   ]
  },
  {
   "attachments": {},
   "cell_type": "markdown",
   "metadata": {},
   "source": [
    "This doesn't look great. Below is Hierarchical Clustering"
   ]
  },
  {
   "cell_type": "code",
   "execution_count": 18,
   "metadata": {},
   "outputs": [],
   "source": [
    "def plotDendrogram(X, method ='ward'):\n",
    "    dendrogram = sch.dendrogram(sch.linkage(X, method=method))\n",
    "    plt.title(\"Dendrogram\")\n",
    "    plt.ylabel(\"Euclidean distances\")\n",
    "    plt.xlabel('Points')\n",
    "    plt.show()"
   ]
  },
  {
   "cell_type": "code",
   "execution_count": 19,
   "metadata": {},
   "outputs": [
    {
     "data": {
      "image/png": "[encoded data removed]",
      "text/plain": [
       "<Figure size 640x480 with 1 Axes>"
      ]
     },
     "metadata": {},
     "output_type": "display_data"
    }
   ],
   "source": [
    "plotDendrogram(scaled_df)"
   ]
  },
  {
   "cell_type": "code",
   "execution_count": 20,
   "metadata": {},
   "outputs": [
    {
     "name": "stderr",
     "output_type": "stream",
     "text": [
      "c:\\Users\\HP USER\\anaconda3\\envs\\lhl_data\\lib\\site-packages\\sklearn\\cluster\\_agglomerative.py:983: FutureWarning: Attribute `affinity` was deprecated in version 1.2 and will be removed in 1.4. Use `metric` instead\n",
      "  warnings.warn(\n"
     ]
    }
   ],
   "source": [
    "ac = AgglomerativeClustering(affinity='euclidean',\n",
    "                             linkage='ward',\n",
    "                             n_clusters=3)\n",
    "y_hc = ac.fit_predict(scaled_df)"
   ]
  },
  {
   "cell_type": "code",
   "execution_count": 21,
   "metadata": {},
   "outputs": [
    {
     "data": {
      "text/html": [
       "<div>\n",
       "<style scoped>\n",
       "    .dataframe tbody tr th:only-of-type {\n",
       "        vertical-align: middle;\n",
       "    }\n",
       "\n",
       "    .dataframe tbody tr th {\n",
       "        vertical-align: top;\n",
       "    }\n",
       "\n",
       "    .dataframe thead th {\n",
       "        text-align: right;\n",
       "    }\n",
       "</style>\n",
       "<table border=\"1\" class=\"dataframe\">\n",
       "  <thead>\n",
       "    <tr style=\"text-align: right;\">\n",
       "      <th></th>\n",
       "      <th>pca0</th>\n",
       "      <th>pca1</th>\n",
       "      <th>label</th>\n",
       "    </tr>\n",
       "  </thead>\n",
       "  <tbody>\n",
       "    <tr>\n",
       "      <th>0</th>\n",
       "      <td>0.500079</td>\n",
       "      <td>0.896887</td>\n",
       "      <td>0</td>\n",
       "    </tr>\n",
       "    <tr>\n",
       "      <th>1</th>\n",
       "      <td>0.221577</td>\n",
       "      <td>0.168711</td>\n",
       "      <td>0</td>\n",
       "    </tr>\n",
       "    <tr>\n",
       "      <th>2</th>\n",
       "      <td>0.981391</td>\n",
       "      <td>-0.576550</td>\n",
       "      <td>0</td>\n",
       "    </tr>\n",
       "    <tr>\n",
       "      <th>3</th>\n",
       "      <td>0.345776</td>\n",
       "      <td>-0.030265</td>\n",
       "      <td>2</td>\n",
       "    </tr>\n",
       "    <tr>\n",
       "      <th>4</th>\n",
       "      <td>-3.661046</td>\n",
       "      <td>1.091354</td>\n",
       "      <td>1</td>\n",
       "    </tr>\n",
       "  </tbody>\n",
       "</table>\n",
       "</div>"
      ],
      "text/plain": [
       "       pca0      pca1  label\n",
       "0  0.500079  0.896887      0\n",
       "1  0.221577  0.168711      0\n",
       "2  0.981391 -0.576550      0\n",
       "3  0.345776 -0.030265      2\n",
       "4 -3.661046  1.091354      1"
      ]
     },
     "execution_count": 21,
     "metadata": {},
     "output_type": "execute_result"
    }
   ],
   "source": [
    "df_with_clusters = cust_df.copy()\n",
    "df_with_clusters['label'] = y_hc\n",
    "\n",
    "df_pca = pca.fit_transform(scaled_df)\n",
    "df_pca_with_clusters = df_pca.copy()\n",
    "df_pca_with_clusters['label'] = df_with_clusters['label']\n",
    "df_pca_with_clusters.head()"
   ]
  },
  {
   "cell_type": "code",
   "execution_count": 22,
   "metadata": {},
   "outputs": [
    {
     "data": {
      "text/plain": [
       "<matplotlib.collections.PathCollection at 0x1abf096e100>"
      ]
     },
     "execution_count": 22,
     "metadata": {},
     "output_type": "execute_result"
    },
    {
     "data": {
      "image/png": "[encoded data removed]",
      "text/plain": [
       "<Figure size 640x480 with 1 Axes>"
      ]
     },
     "metadata": {},
     "output_type": "display_data"
    }
   ],
   "source": [
    "plt.scatter(df_pca_with_clusters['pca0'], df_pca_with_clusters['pca1'], c=df_pca_with_clusters['label'], s=5,)"
   ]
  },
  {
   "cell_type": "code",
   "execution_count": 23,
   "metadata": {},
   "outputs": [
    {
     "data": {
      "text/html": [
       "<div>\n",
       "<style scoped>\n",
       "    .dataframe tbody tr th:only-of-type {\n",
       "        vertical-align: middle;\n",
       "    }\n",
       "\n",
       "    .dataframe tbody tr th {\n",
       "        vertical-align: top;\n",
       "    }\n",
       "\n",
       "    .dataframe thead th {\n",
       "        text-align: right;\n",
       "    }\n",
       "</style>\n",
       "<table border=\"1\" class=\"dataframe\">\n",
       "  <thead>\n",
       "    <tr style=\"text-align: right;\">\n",
       "      <th></th>\n",
       "      <th>income</th>\n",
       "      <th>age</th>\n",
       "      <th>years_with_bank</th>\n",
       "      <th>nbr_children</th>\n",
       "      <th>gender</th>\n",
       "      <th>marital_status</th>\n",
       "      <th>population</th>\n",
       "      <th>latitude</th>\n",
       "      <th>longitude</th>\n",
       "    </tr>\n",
       "  </thead>\n",
       "  <tbody>\n",
       "    <tr>\n",
       "      <th>0</th>\n",
       "      <td>28870.366995</td>\n",
       "      <td>51.559113</td>\n",
       "      <td>4.108374</td>\n",
       "      <td>1.110837</td>\n",
       "      <td>0.453202</td>\n",
       "      <td>2.290640</td>\n",
       "      <td>1.147202e+06</td>\n",
       "      <td>37.710519</td>\n",
       "      <td>-99.257269</td>\n",
       "    </tr>\n",
       "    <tr>\n",
       "      <th>1</th>\n",
       "      <td>24621.244898</td>\n",
       "      <td>44.642857</td>\n",
       "      <td>3.908163</td>\n",
       "      <td>0.632653</td>\n",
       "      <td>0.448980</td>\n",
       "      <td>1.897959</td>\n",
       "      <td>7.322564e+06</td>\n",
       "      <td>43.299428</td>\n",
       "      <td>-74.217933</td>\n",
       "    </tr>\n",
       "    <tr>\n",
       "      <th>2</th>\n",
       "      <td>11702.777778</td>\n",
       "      <td>26.436214</td>\n",
       "      <td>3.572016</td>\n",
       "      <td>0.086420</td>\n",
       "      <td>0.415638</td>\n",
       "      <td>1.193416</td>\n",
       "      <td>1.253633e+06</td>\n",
       "      <td>36.416124</td>\n",
       "      <td>-103.732124</td>\n",
       "    </tr>\n",
       "  </tbody>\n",
       "</table>\n",
       "</div>"
      ],
      "text/plain": [
       "         income        age  years_with_bank  nbr_children    gender   \n",
       "0  28870.366995  51.559113         4.108374      1.110837  0.453202  \\\n",
       "1  24621.244898  44.642857         3.908163      0.632653  0.448980   \n",
       "2  11702.777778  26.436214         3.572016      0.086420  0.415638   \n",
       "\n",
       "   marital_status    population   latitude   longitude  \n",
       "0        2.290640  1.147202e+06  37.710519  -99.257269  \n",
       "1        1.897959  7.322564e+06  43.299428  -74.217933  \n",
       "2        1.193416  1.253633e+06  36.416124 -103.732124  "
      ]
     },
     "execution_count": 23,
     "metadata": {},
     "output_type": "execute_result"
    }
   ],
   "source": [
    "cluster_0_means = prepped_df[df_with_clusters['label'] == 0].mean()\n",
    "cluster_1_means = prepped_df[df_with_clusters['label'] == 1].mean()\n",
    "cluster_2_means = prepped_df[df_with_clusters['label'] == 2].mean()\n",
    "\n",
    "\n",
    "means = pd.DataFrame([cluster_0_means, cluster_1_means, cluster_2_means])\n",
    "means"
   ]
  },
  {
   "attachments": {},
   "cell_type": "markdown",
   "metadata": {},
   "source": [
    "That looked better. What about DBSCAN?"
   ]
  },
  {
   "cell_type": "code",
   "execution_count": 76,
   "metadata": {},
   "outputs": [],
   "source": [
    "db = DBSCAN(eps=1.5, min_samples=4, metric='euclidean')\n",
    "y_db = db.fit_predict(scaled_df)"
   ]
  },
  {
   "cell_type": "code",
   "execution_count": 77,
   "metadata": {},
   "outputs": [
    {
     "data": {
      "text/html": [
       "<div>\n",
       "<style scoped>\n",
       "    .dataframe tbody tr th:only-of-type {\n",
       "        vertical-align: middle;\n",
       "    }\n",
       "\n",
       "    .dataframe tbody tr th {\n",
       "        vertical-align: top;\n",
       "    }\n",
       "\n",
       "    .dataframe thead th {\n",
       "        text-align: right;\n",
       "    }\n",
       "</style>\n",
       "<table border=\"1\" class=\"dataframe\">\n",
       "  <thead>\n",
       "    <tr style=\"text-align: right;\">\n",
       "      <th></th>\n",
       "      <th>pca0</th>\n",
       "      <th>pca1</th>\n",
       "      <th>label</th>\n",
       "    </tr>\n",
       "  </thead>\n",
       "  <tbody>\n",
       "    <tr>\n",
       "      <th>0</th>\n",
       "      <td>0.500079</td>\n",
       "      <td>0.896887</td>\n",
       "      <td>0</td>\n",
       "    </tr>\n",
       "    <tr>\n",
       "      <th>1</th>\n",
       "      <td>0.221577</td>\n",
       "      <td>0.168711</td>\n",
       "      <td>-1</td>\n",
       "    </tr>\n",
       "    <tr>\n",
       "      <th>2</th>\n",
       "      <td>0.981391</td>\n",
       "      <td>-0.576550</td>\n",
       "      <td>1</td>\n",
       "    </tr>\n",
       "    <tr>\n",
       "      <th>3</th>\n",
       "      <td>0.345776</td>\n",
       "      <td>-0.030265</td>\n",
       "      <td>1</td>\n",
       "    </tr>\n",
       "    <tr>\n",
       "      <th>4</th>\n",
       "      <td>-3.661046</td>\n",
       "      <td>1.091354</td>\n",
       "      <td>-1</td>\n",
       "    </tr>\n",
       "  </tbody>\n",
       "</table>\n",
       "</div>"
      ],
      "text/plain": [
       "       pca0      pca1  label\n",
       "0  0.500079  0.896887      0\n",
       "1  0.221577  0.168711     -1\n",
       "2  0.981391 -0.576550      1\n",
       "3  0.345776 -0.030265      1\n",
       "4 -3.661046  1.091354     -1"
      ]
     },
     "execution_count": 77,
     "metadata": {},
     "output_type": "execute_result"
    }
   ],
   "source": [
    "df_with_clusters = cust_df.copy()\n",
    "df_with_clusters['label'] = y_db\n",
    "\n",
    "df_pca = pca.fit_transform(scaled_df)\n",
    "df_pca_with_clusters = df_pca.copy()\n",
    "df_pca_with_clusters['label'] = df_with_clusters['label']\n",
    "df_pca_with_clusters.head()"
   ]
  },
  {
   "cell_type": "code",
   "execution_count": 78,
   "metadata": {},
   "outputs": [
    {
     "data": {
      "text/plain": [
       "<matplotlib.collections.PathCollection at 0x1a5ba758310>"
      ]
     },
     "execution_count": 78,
     "metadata": {},
     "output_type": "execute_result"
    },
    {
     "data": {
      "image/png": "[encoded data removed]",
      "text/plain": [
       "<Figure size 640x480 with 1 Axes>"
      ]
     },
     "metadata": {},
     "output_type": "display_data"
    }
   ],
   "source": [
    "plt.scatter(df_pca_with_clusters['pca0'], df_pca_with_clusters['pca1'], c=df_pca_with_clusters['label'], s=5,)"
   ]
  },
  {
   "attachments": {},
   "cell_type": "markdown",
   "metadata": {},
   "source": [
    "Nope. Looks like hierarchical is best."
   ]
  },
  {
   "attachments": {},
   "cell_type": "markdown",
   "metadata": {},
   "source": [
    "### Radar Chart"
   ]
  },
  {
   "cell_type": "code",
   "execution_count": 24,
   "metadata": {},
   "outputs": [
    {
     "data": {
      "text/plain": [
       "label\n",
       "0    406\n",
       "2    243\n",
       "1     98\n",
       "Name: count, dtype: int64"
      ]
     },
     "execution_count": 24,
     "metadata": {},
     "output_type": "execute_result"
    }
   ],
   "source": [
    "df_with_clusters['label'].value_counts()"
   ]
  },
  {
   "cell_type": "code",
   "execution_count": 25,
   "metadata": {},
   "outputs": [
    {
     "data": {
      "text/html": [
       "<div>\n",
       "<style scoped>\n",
       "    .dataframe tbody tr th:only-of-type {\n",
       "        vertical-align: middle;\n",
       "    }\n",
       "\n",
       "    .dataframe tbody tr th {\n",
       "        vertical-align: top;\n",
       "    }\n",
       "\n",
       "    .dataframe thead th {\n",
       "        text-align: right;\n",
       "    }\n",
       "</style>\n",
       "<table border=\"1\" class=\"dataframe\">\n",
       "  <thead>\n",
       "    <tr style=\"text-align: right;\">\n",
       "      <th></th>\n",
       "      <th>income</th>\n",
       "      <th>age</th>\n",
       "      <th>years_with_bank</th>\n",
       "      <th>nbr_children</th>\n",
       "      <th>gender</th>\n",
       "      <th>marital_status</th>\n",
       "      <th>population</th>\n",
       "      <th>latitude</th>\n",
       "      <th>longitude</th>\n",
       "    </tr>\n",
       "  </thead>\n",
       "  <tbody>\n",
       "    <tr>\n",
       "      <th>0</th>\n",
       "      <td>28870.366995</td>\n",
       "      <td>51.559113</td>\n",
       "      <td>4.108374</td>\n",
       "      <td>1.110837</td>\n",
       "      <td>0.453202</td>\n",
       "      <td>2.290640</td>\n",
       "      <td>1.147202e+06</td>\n",
       "      <td>37.710519</td>\n",
       "      <td>-99.257269</td>\n",
       "    </tr>\n",
       "    <tr>\n",
       "      <th>1</th>\n",
       "      <td>24621.244898</td>\n",
       "      <td>44.642857</td>\n",
       "      <td>3.908163</td>\n",
       "      <td>0.632653</td>\n",
       "      <td>0.448980</td>\n",
       "      <td>1.897959</td>\n",
       "      <td>7.322564e+06</td>\n",
       "      <td>43.299428</td>\n",
       "      <td>-74.217933</td>\n",
       "    </tr>\n",
       "    <tr>\n",
       "      <th>2</th>\n",
       "      <td>11702.777778</td>\n",
       "      <td>26.436214</td>\n",
       "      <td>3.572016</td>\n",
       "      <td>0.086420</td>\n",
       "      <td>0.415638</td>\n",
       "      <td>1.193416</td>\n",
       "      <td>1.253633e+06</td>\n",
       "      <td>36.416124</td>\n",
       "      <td>-103.732124</td>\n",
       "    </tr>\n",
       "  </tbody>\n",
       "</table>\n",
       "</div>"
      ],
      "text/plain": [
       "         income        age  years_with_bank  nbr_children    gender   \n",
       "0  28870.366995  51.559113         4.108374      1.110837  0.453202  \\\n",
       "1  24621.244898  44.642857         3.908163      0.632653  0.448980   \n",
       "2  11702.777778  26.436214         3.572016      0.086420  0.415638   \n",
       "\n",
       "   marital_status    population   latitude   longitude  \n",
       "0        2.290640  1.147202e+06  37.710519  -99.257269  \n",
       "1        1.897959  7.322564e+06  43.299428  -74.217933  \n",
       "2        1.193416  1.253633e+06  36.416124 -103.732124  "
      ]
     },
     "execution_count": 25,
     "metadata": {},
     "output_type": "execute_result"
    }
   ],
   "source": [
    "means"
   ]
  },
  {
   "attachments": {},
   "cell_type": "markdown",
   "metadata": {},
   "source": [
    "Need to create a standard 1-5 scale for these cluster means based on ranges of data"
   ]
  },
  {
   "cell_type": "code",
   "execution_count": 26,
   "metadata": {},
   "outputs": [
    {
     "data": {
      "text/html": [
       "<div>\n",
       "<style scoped>\n",
       "    .dataframe tbody tr th:only-of-type {\n",
       "        vertical-align: middle;\n",
       "    }\n",
       "\n",
       "    .dataframe tbody tr th {\n",
       "        vertical-align: top;\n",
       "    }\n",
       "\n",
       "    .dataframe thead th {\n",
       "        text-align: right;\n",
       "    }\n",
       "</style>\n",
       "<table border=\"1\" class=\"dataframe\">\n",
       "  <thead>\n",
       "    <tr style=\"text-align: right;\">\n",
       "      <th></th>\n",
       "      <th>income</th>\n",
       "      <th>age</th>\n",
       "      <th>years_with_bank</th>\n",
       "      <th>nbr_children</th>\n",
       "      <th>gender</th>\n",
       "      <th>marital_status</th>\n",
       "      <th>population</th>\n",
       "      <th>latitude</th>\n",
       "      <th>longitude</th>\n",
       "    </tr>\n",
       "  </thead>\n",
       "  <tbody>\n",
       "    <tr>\n",
       "      <th>count</th>\n",
       "      <td>747.000000</td>\n",
       "      <td>747.000000</td>\n",
       "      <td>747.000000</td>\n",
       "      <td>747.000000</td>\n",
       "      <td>747.000000</td>\n",
       "      <td>747.000000</td>\n",
       "      <td>7.470000e+02</td>\n",
       "      <td>747.000000</td>\n",
       "      <td>747.000000</td>\n",
       "    </tr>\n",
       "    <tr>\n",
       "      <th>mean</th>\n",
       "      <td>22728.281124</td>\n",
       "      <td>42.479250</td>\n",
       "      <td>3.907631</td>\n",
       "      <td>0.714859</td>\n",
       "      <td>0.440428</td>\n",
       "      <td>1.882195</td>\n",
       "      <td>1.991979e+06</td>\n",
       "      <td>38.022668</td>\n",
       "      <td>-97.427999</td>\n",
       "    </tr>\n",
       "    <tr>\n",
       "      <th>std</th>\n",
       "      <td>22207.221405</td>\n",
       "      <td>19.114879</td>\n",
       "      <td>2.675634</td>\n",
       "      <td>1.103410</td>\n",
       "      <td>0.496771</td>\n",
       "      <td>0.892051</td>\n",
       "      <td>2.325499e+06</td>\n",
       "      <td>4.872129</td>\n",
       "      <td>18.762770</td>\n",
       "    </tr>\n",
       "    <tr>\n",
       "      <th>min</th>\n",
       "      <td>0.000000</td>\n",
       "      <td>13.000000</td>\n",
       "      <td>0.000000</td>\n",
       "      <td>0.000000</td>\n",
       "      <td>0.000000</td>\n",
       "      <td>1.000000</td>\n",
       "      <td>1.820440e+05</td>\n",
       "      <td>19.898682</td>\n",
       "      <td>-155.665857</td>\n",
       "    </tr>\n",
       "    <tr>\n",
       "      <th>25%</th>\n",
       "      <td>7118.500000</td>\n",
       "      <td>28.000000</td>\n",
       "      <td>2.000000</td>\n",
       "      <td>0.000000</td>\n",
       "      <td>0.000000</td>\n",
       "      <td>1.000000</td>\n",
       "      <td>3.959340e+05</td>\n",
       "      <td>35.759573</td>\n",
       "      <td>-119.417932</td>\n",
       "    </tr>\n",
       "    <tr>\n",
       "      <th>50%</th>\n",
       "      <td>17242.000000</td>\n",
       "      <td>42.000000</td>\n",
       "      <td>4.000000</td>\n",
       "      <td>0.000000</td>\n",
       "      <td>0.000000</td>\n",
       "      <td>2.000000</td>\n",
       "      <td>7.360140e+05</td>\n",
       "      <td>37.431573</td>\n",
       "      <td>-94.685900</td>\n",
       "    </tr>\n",
       "    <tr>\n",
       "      <th>75%</th>\n",
       "      <td>31338.000000</td>\n",
       "      <td>56.000000</td>\n",
       "      <td>6.000000</td>\n",
       "      <td>1.000000</td>\n",
       "      <td>1.000000</td>\n",
       "      <td>2.000000</td>\n",
       "      <td>2.783726e+06</td>\n",
       "      <td>41.203322</td>\n",
       "      <td>-81.515754</td>\n",
       "    </tr>\n",
       "    <tr>\n",
       "      <th>max</th>\n",
       "      <td>144157.000000</td>\n",
       "      <td>89.000000</td>\n",
       "      <td>9.000000</td>\n",
       "      <td>5.000000</td>\n",
       "      <td>1.000000</td>\n",
       "      <td>4.000000</td>\n",
       "      <td>7.322564e+06</td>\n",
       "      <td>47.751074</td>\n",
       "      <td>-71.382437</td>\n",
       "    </tr>\n",
       "  </tbody>\n",
       "</table>\n",
       "</div>"
      ],
      "text/plain": [
       "              income         age  years_with_bank  nbr_children      gender   \n",
       "count     747.000000  747.000000       747.000000    747.000000  747.000000  \\\n",
       "mean    22728.281124   42.479250         3.907631      0.714859    0.440428   \n",
       "std     22207.221405   19.114879         2.675634      1.103410    0.496771   \n",
       "min         0.000000   13.000000         0.000000      0.000000    0.000000   \n",
       "25%      7118.500000   28.000000         2.000000      0.000000    0.000000   \n",
       "50%     17242.000000   42.000000         4.000000      0.000000    0.000000   \n",
       "75%     31338.000000   56.000000         6.000000      1.000000    1.000000   \n",
       "max    144157.000000   89.000000         9.000000      5.000000    1.000000   \n",
       "\n",
       "       marital_status    population    latitude   longitude  \n",
       "count      747.000000  7.470000e+02  747.000000  747.000000  \n",
       "mean         1.882195  1.991979e+06   38.022668  -97.427999  \n",
       "std          0.892051  2.325499e+06    4.872129   18.762770  \n",
       "min          1.000000  1.820440e+05   19.898682 -155.665857  \n",
       "25%          1.000000  3.959340e+05   35.759573 -119.417932  \n",
       "50%          2.000000  7.360140e+05   37.431573  -94.685900  \n",
       "75%          2.000000  2.783726e+06   41.203322  -81.515754  \n",
       "max          4.000000  7.322564e+06   47.751074  -71.382437  "
      ]
     },
     "execution_count": 26,
     "metadata": {},
     "output_type": "execute_result"
    }
   ],
   "source": [
    "prepped_df.describe()"
   ]
  },
  {
   "cell_type": "code",
   "execution_count": 27,
   "metadata": {},
   "outputs": [
    {
     "data": {
      "text/html": [
       "<div>\n",
       "<style scoped>\n",
       "    .dataframe tbody tr th:only-of-type {\n",
       "        vertical-align: middle;\n",
       "    }\n",
       "\n",
       "    .dataframe tbody tr th {\n",
       "        vertical-align: top;\n",
       "    }\n",
       "\n",
       "    .dataframe thead th {\n",
       "        text-align: right;\n",
       "    }\n",
       "</style>\n",
       "<table border=\"1\" class=\"dataframe\">\n",
       "  <thead>\n",
       "    <tr style=\"text-align: right;\">\n",
       "      <th></th>\n",
       "      <th>income</th>\n",
       "      <th>age</th>\n",
       "      <th>years_with_bank</th>\n",
       "      <th>nbr_children</th>\n",
       "      <th>gender</th>\n",
       "      <th>marital_status</th>\n",
       "      <th>population</th>\n",
       "      <th>latitude</th>\n",
       "      <th>longitude</th>\n",
       "    </tr>\n",
       "  </thead>\n",
       "  <tbody>\n",
       "    <tr>\n",
       "      <th>count</th>\n",
       "      <td>747.000000</td>\n",
       "      <td>747.000000</td>\n",
       "      <td>747.000000</td>\n",
       "      <td>747.000000</td>\n",
       "      <td>747.000000</td>\n",
       "      <td>747.000000</td>\n",
       "      <td>747.000000</td>\n",
       "      <td>747.000000</td>\n",
       "      <td>747.000000</td>\n",
       "    </tr>\n",
       "    <tr>\n",
       "      <th>mean</th>\n",
       "      <td>0.788317</td>\n",
       "      <td>1.939424</td>\n",
       "      <td>2.170906</td>\n",
       "      <td>0.714859</td>\n",
       "      <td>2.202142</td>\n",
       "      <td>1.470326</td>\n",
       "      <td>1.267369</td>\n",
       "      <td>3.253578</td>\n",
       "      <td>3.454882</td>\n",
       "    </tr>\n",
       "    <tr>\n",
       "      <th>std</th>\n",
       "      <td>0.770244</td>\n",
       "      <td>1.257558</td>\n",
       "      <td>1.486463</td>\n",
       "      <td>1.103410</td>\n",
       "      <td>2.483856</td>\n",
       "      <td>1.486752</td>\n",
       "      <td>1.628382</td>\n",
       "      <td>0.874634</td>\n",
       "      <td>1.113076</td>\n",
       "    </tr>\n",
       "    <tr>\n",
       "      <th>min</th>\n",
       "      <td>0.000000</td>\n",
       "      <td>0.000000</td>\n",
       "      <td>0.000000</td>\n",
       "      <td>0.000000</td>\n",
       "      <td>0.000000</td>\n",
       "      <td>0.000000</td>\n",
       "      <td>0.000000</td>\n",
       "      <td>0.000000</td>\n",
       "      <td>0.000000</td>\n",
       "    </tr>\n",
       "    <tr>\n",
       "      <th>25%</th>\n",
       "      <td>0.246901</td>\n",
       "      <td>0.986842</td>\n",
       "      <td>1.111111</td>\n",
       "      <td>0.000000</td>\n",
       "      <td>0.000000</td>\n",
       "      <td>0.000000</td>\n",
       "      <td>0.149772</td>\n",
       "      <td>2.847312</td>\n",
       "      <td>2.150359</td>\n",
       "    </tr>\n",
       "    <tr>\n",
       "      <th>50%</th>\n",
       "      <td>0.598029</td>\n",
       "      <td>1.907895</td>\n",
       "      <td>2.222222</td>\n",
       "      <td>0.000000</td>\n",
       "      <td>0.000000</td>\n",
       "      <td>1.666667</td>\n",
       "      <td>0.387906</td>\n",
       "      <td>3.147466</td>\n",
       "      <td>3.617554</td>\n",
       "    </tr>\n",
       "    <tr>\n",
       "      <th>75%</th>\n",
       "      <td>1.086940</td>\n",
       "      <td>2.828947</td>\n",
       "      <td>3.333333</td>\n",
       "      <td>1.000000</td>\n",
       "      <td>5.000000</td>\n",
       "      <td>1.666667</td>\n",
       "      <td>1.821773</td>\n",
       "      <td>3.824562</td>\n",
       "      <td>4.398855</td>\n",
       "    </tr>\n",
       "    <tr>\n",
       "      <th>max</th>\n",
       "      <td>5.000000</td>\n",
       "      <td>5.000000</td>\n",
       "      <td>5.000000</td>\n",
       "      <td>5.000000</td>\n",
       "      <td>5.000000</td>\n",
       "      <td>5.000000</td>\n",
       "      <td>5.000000</td>\n",
       "      <td>5.000000</td>\n",
       "      <td>5.000000</td>\n",
       "    </tr>\n",
       "  </tbody>\n",
       "</table>\n",
       "</div>"
      ],
      "text/plain": [
       "           income         age  years_with_bank  nbr_children      gender   \n",
       "count  747.000000  747.000000       747.000000    747.000000  747.000000  \\\n",
       "mean     0.788317    1.939424         2.170906      0.714859    2.202142   \n",
       "std      0.770244    1.257558         1.486463      1.103410    2.483856   \n",
       "min      0.000000    0.000000         0.000000      0.000000    0.000000   \n",
       "25%      0.246901    0.986842         1.111111      0.000000    0.000000   \n",
       "50%      0.598029    1.907895         2.222222      0.000000    0.000000   \n",
       "75%      1.086940    2.828947         3.333333      1.000000    5.000000   \n",
       "max      5.000000    5.000000         5.000000      5.000000    5.000000   \n",
       "\n",
       "       marital_status  population    latitude   longitude  \n",
       "count      747.000000  747.000000  747.000000  747.000000  \n",
       "mean         1.470326    1.267369    3.253578    3.454882  \n",
       "std          1.486752    1.628382    0.874634    1.113076  \n",
       "min          0.000000    0.000000    0.000000    0.000000  \n",
       "25%          0.000000    0.149772    2.847312    2.150359  \n",
       "50%          1.666667    0.387906    3.147466    3.617554  \n",
       "75%          1.666667    1.821773    3.824562    4.398855  \n",
       "max          5.000000    5.000000    5.000000    5.000000  "
      ]
     },
     "execution_count": 27,
     "metadata": {},
     "output_type": "execute_result"
    }
   ],
   "source": [
    "from sklearn.preprocessing import MinMaxScaler\n",
    "scaler = MinMaxScaler(feature_range=(0,5)).set_output(transform='pandas')\n",
    "score_df = scaler.fit_transform(prepped_df)\n",
    "score_df.describe()"
   ]
  },
  {
   "cell_type": "code",
   "execution_count": 28,
   "metadata": {},
   "outputs": [
    {
     "data": {
      "text/html": [
       "<div>\n",
       "<style scoped>\n",
       "    .dataframe tbody tr th:only-of-type {\n",
       "        vertical-align: middle;\n",
       "    }\n",
       "\n",
       "    .dataframe tbody tr th {\n",
       "        vertical-align: top;\n",
       "    }\n",
       "\n",
       "    .dataframe thead th {\n",
       "        text-align: right;\n",
       "    }\n",
       "</style>\n",
       "<table border=\"1\" class=\"dataframe\">\n",
       "  <thead>\n",
       "    <tr style=\"text-align: right;\">\n",
       "      <th></th>\n",
       "      <th>income</th>\n",
       "      <th>age</th>\n",
       "      <th>years_with_bank</th>\n",
       "      <th>nbr_children</th>\n",
       "      <th>gender</th>\n",
       "      <th>marital_status</th>\n",
       "      <th>population</th>\n",
       "      <th>latitude</th>\n",
       "      <th>longitude</th>\n",
       "    </tr>\n",
       "  </thead>\n",
       "  <tbody>\n",
       "    <tr>\n",
       "      <th>0</th>\n",
       "      <td>1.001352</td>\n",
       "      <td>2.536784</td>\n",
       "      <td>2.282430</td>\n",
       "      <td>1.110837</td>\n",
       "      <td>2.266010</td>\n",
       "      <td>2.151067</td>\n",
       "      <td>0.675832</td>\n",
       "      <td>3.197542</td>\n",
       "      <td>3.346363</td>\n",
       "    </tr>\n",
       "    <tr>\n",
       "      <th>1</th>\n",
       "      <td>0.853973</td>\n",
       "      <td>2.081767</td>\n",
       "      <td>2.171202</td>\n",
       "      <td>0.632653</td>\n",
       "      <td>2.244898</td>\n",
       "      <td>1.496599</td>\n",
       "      <td>5.000000</td>\n",
       "      <td>4.200850</td>\n",
       "      <td>4.831788</td>\n",
       "    </tr>\n",
       "    <tr>\n",
       "      <th>2</th>\n",
       "      <td>0.405904</td>\n",
       "      <td>0.883961</td>\n",
       "      <td>1.984454</td>\n",
       "      <td>0.086420</td>\n",
       "      <td>2.078189</td>\n",
       "      <td>0.322359</td>\n",
       "      <td>0.750358</td>\n",
       "      <td>2.965175</td>\n",
       "      <td>3.080899</td>\n",
       "    </tr>\n",
       "  </tbody>\n",
       "</table>\n",
       "</div>"
      ],
      "text/plain": [
       "     income       age  years_with_bank  nbr_children    gender   \n",
       "0  1.001352  2.536784         2.282430      1.110837  2.266010  \\\n",
       "1  0.853973  2.081767         2.171202      0.632653  2.244898   \n",
       "2  0.405904  0.883961         1.984454      0.086420  2.078189   \n",
       "\n",
       "   marital_status  population  latitude  longitude  \n",
       "0        2.151067    0.675832  3.197542   3.346363  \n",
       "1        1.496599    5.000000  4.200850   4.831788  \n",
       "2        0.322359    0.750358  2.965175   3.080899  "
      ]
     },
     "execution_count": 28,
     "metadata": {},
     "output_type": "execute_result"
    }
   ],
   "source": [
    "score_df_with_clusters = score_df.copy()\n",
    "score_df_with_clusters['label'] = y_hc\n",
    "\n",
    "cluster_0_mean_score = score_df[score_df_with_clusters['label'] == 0].mean()\n",
    "cluster_1_mean_score = score_df[score_df_with_clusters['label'] == 1].mean()\n",
    "cluster_2_mean_score = score_df[score_df_with_clusters['label'] == 2].mean()\n",
    "\n",
    "\n",
    "mean_scores = pd.DataFrame([cluster_0_mean_score, cluster_1_mean_score, cluster_2_mean_score])\n",
    "mean_scores"
   ]
  },
  {
   "cell_type": "code",
   "execution_count": 29,
   "metadata": {},
   "outputs": [
    {
     "data": {
      "application/vnd.plotly.v1+json": {
       "config": {
        "plotlyServerURL": "https://plot.ly"
       },
       "data": [
        {
         "fill": "toself",
         "name": "0",
         "r": [
          1.0013515471005185,
          2.536783769769251,
          2.2824302134646963,
          1.1108374384236452,
          2.2660098522167487,
          2.151067323481117,
          0.6758315665713407,
          3.1975417517252636,
          3.346363240222998
         ],
         "theta": [
          "income",
          "age",
          "years_with_bank",
          "nbr_children",
          "gender",
          "marital_status",
          "population",
          "latitude",
          "longitude"
         ],
         "type": "scatterpolar"
        },
        {
         "fill": "toself",
         "name": "1",
         "r": [
          0.8539732686570608,
          2.0817669172932334,
          2.171201814058957,
          0.6326530612244898,
          2.2448979591836733,
          1.4965986394557822,
          4.999999999999999,
          4.200850325530388,
          4.831788031382684
         ],
         "theta": [
          "income",
          "age",
          "years_with_bank",
          "nbr_children",
          "gender",
          "marital_status",
          "population",
          "latitude",
          "longitude"
         ],
         "type": "scatterpolar"
        },
        {
         "fill": "toself",
         "name": "2",
         "r": [
          0.40590390261235243,
          0.8839614468269439,
          1.9844535893918611,
          0.08641975308641975,
          2.078189300411523,
          0.32235939643347056,
          0.7503577969065388,
          2.9651747219306586,
          3.080898509645712
         ],
         "theta": [
          "income",
          "age",
          "years_with_bank",
          "nbr_children",
          "gender",
          "marital_status",
          "population",
          "latitude",
          "longitude"
         ],
         "type": "scatterpolar"
        }
       ],
       "layout": {
        "polar": {
         "radialaxis": {
          "range": [
           0,
           5
          ],
          "visible": true
         }
        },
        "showlegend": true,
        "template": {
         "data": {
          "bar": [
           {
            "error_x": {
             "color": "#2a3f5f"
            },
            "error_y": {
             "color": "#2a3f5f"
            },
            "marker": {
             "line": {
              "color": "#E5ECF6",
              "width": 0.5
             },
             "pattern": {
              "fillmode": "overlay",
              "size": 10,
              "solidity": 0.2
             }
            },
            "type": "bar"
           }
          ],
          "barpolar": [
           {
            "marker": {
             "line": {
              "color": "#E5ECF6",
              "width": 0.5
             },
             "pattern": {
              "fillmode": "overlay",
              "size": 10,
              "solidity": 0.2
             }
            },
            "type": "barpolar"
           }
          ],
          "carpet": [
           {
            "aaxis": {
             "endlinecolor": "#2a3f5f",
             "gridcolor": "white",
             "linecolor": "white",
             "minorgridcolor": "white",
             "startlinecolor": "#2a3f5f"
            },
            "baxis": {
             "endlinecolor": "#2a3f5f",
             "gridcolor": "white",
             "linecolor": "white",
             "minorgridcolor": "white",
             "startlinecolor": "#2a3f5f"
            },
            "type": "carpet"
           }
          ],
          "choropleth": [
           {
            "colorbar": {
             "outlinewidth": 0,
             "ticks": ""
            },
            "type": "choropleth"
           }
          ],
          "contour": [
           {
            "colorbar": {
             "outlinewidth": 0,
             "ticks": ""
            },
            "colorscale": [
             [
              0,
              "#0d0887"
             ],
             [
              0.1111111111111111,
              "#46039f"
             ],
             [
              0.2222222222222222,
              "#7201a8"
             ],
             [
              0.3333333333333333,
              "#9c179e"
             ],
             [
              0.4444444444444444,
              "#bd3786"
             ],
             [
              0.5555555555555556,
              "#d8576b"
             ],
             [
              0.6666666666666666,
              "#ed7953"
             ],
             [
              0.7777777777777778,
              "#fb9f3a"
             ],
             [
              0.8888888888888888,
              "#fdca26"
             ],
             [
              1,
              "#f0f921"
             ]
            ],
            "type": "contour"
           }
          ],
          "contourcarpet": [
           {
            "colorbar": {
             "outlinewidth": 0,
             "ticks": ""
            },
            "type": "contourcarpet"
           }
          ],
          "heatmap": [
           {
            "colorbar": {
             "outlinewidth": 0,
             "ticks": ""
            },
            "colorscale": [
             [
              0,
              "#0d0887"
             ],
             [
              0.1111111111111111,
              "#46039f"
             ],
             [
              0.2222222222222222,
              "#7201a8"
             ],
             [
              0.3333333333333333,
              "#9c179e"
             ],
             [
              0.4444444444444444,
              "#bd3786"
             ],
             [
              0.5555555555555556,
              "#d8576b"
             ],
             [
              0.6666666666666666,
              "#ed7953"
             ],
             [
              0.7777777777777778,
              "#fb9f3a"
             ],
             [
              0.8888888888888888,
              "#fdca26"
             ],
             [
              1,
              "#f0f921"
             ]
            ],
            "type": "heatmap"
           }
          ],
          "heatmapgl": [
           {
            "colorbar": {
             "outlinewidth": 0,
             "ticks": ""
            },
            "colorscale": [
             [
              0,
              "#0d0887"
             ],
             [
              0.1111111111111111,
              "#46039f"
             ],
             [
              0.2222222222222222,
              "#7201a8"
             ],
             [
              0.3333333333333333,
              "#9c179e"
             ],
             [
              0.4444444444444444,
              "#bd3786"
             ],
             [
              0.5555555555555556,
              "#d8576b"
             ],
             [
              0.6666666666666666,
              "#ed7953"
             ],
             [
              0.7777777777777778,
              "#fb9f3a"
             ],
             [
              0.8888888888888888,
              "#fdca26"
             ],
             [
              1,
              "#f0f921"
             ]
            ],
            "type": "heatmapgl"
           }
          ],
          "histogram": [
           {
            "marker": {
             "pattern": {
              "fillmode": "overlay",
              "size": 10,
              "solidity": 0.2
             }
            },
            "type": "histogram"
           }
          ],
          "histogram2d": [
           {
            "colorbar": {
             "outlinewidth": 0,
             "ticks": ""
            },
            "colorscale": [
             [
              0,
              "#0d0887"
             ],
             [
              0.1111111111111111,
              "#46039f"
             ],
             [
              0.2222222222222222,
              "#7201a8"
             ],
             [
              0.3333333333333333,
              "#9c179e"
             ],
             [
              0.4444444444444444,
              "#bd3786"
             ],
             [
              0.5555555555555556,
              "#d8576b"
             ],
             [
              0.6666666666666666,
              "#ed7953"
             ],
             [
              0.7777777777777778,
              "#fb9f3a"
             ],
             [
              0.8888888888888888,
              "#fdca26"
             ],
             [
              1,
              "#f0f921"
             ]
            ],
            "type": "histogram2d"
           }
          ],
          "histogram2dcontour": [
           {
            "colorbar": {
             "outlinewidth": 0,
             "ticks": ""
            },
            "colorscale": [
             [
              0,
              "#0d0887"
             ],
             [
              0.1111111111111111,
              "#46039f"
             ],
             [
              0.2222222222222222,
              "#7201a8"
             ],
             [
              0.3333333333333333,
              "#9c179e"
             ],
             [
              0.4444444444444444,
              "#bd3786"
             ],
             [
              0.5555555555555556,
              "#d8576b"
             ],
             [
              0.6666666666666666,
              "#ed7953"
             ],
             [
              0.7777777777777778,
              "#fb9f3a"
             ],
             [
              0.8888888888888888,
              "#fdca26"
             ],
             [
              1,
              "#f0f921"
             ]
            ],
            "type": "histogram2dcontour"
           }
          ],
          "mesh3d": [
           {
            "colorbar": {
             "outlinewidth": 0,
             "ticks": ""
            },
            "type": "mesh3d"
           }
          ],
          "parcoords": [
           {
            "line": {
             "colorbar": {
              "outlinewidth": 0,
              "ticks": ""
             }
            },
            "type": "parcoords"
           }
          ],
          "pie": [
           {
            "automargin": true,
            "type": "pie"
           }
          ],
          "scatter": [
           {
            "fillpattern": {
             "fillmode": "overlay",
             "size": 10,
             "solidity": 0.2
            },
            "type": "scatter"
           }
          ],
          "scatter3d": [
           {
            "line": {
             "colorbar": {
              "outlinewidth": 0,
              "ticks": ""
             }
            },
            "marker": {
             "colorbar": {
              "outlinewidth": 0,
              "ticks": ""
             }
            },
            "type": "scatter3d"
           }
          ],
          "scattercarpet": [
           {
            "marker": {
             "colorbar": {
              "outlinewidth": 0,
              "ticks": ""
             }
            },
            "type": "scattercarpet"
           }
          ],
          "scattergeo": [
           {
            "marker": {
             "colorbar": {
              "outlinewidth": 0,
              "ticks": ""
             }
            },
            "type": "scattergeo"
           }
          ],
          "scattergl": [
           {
            "marker": {
             "colorbar": {
              "outlinewidth": 0,
              "ticks": ""
             }
            },
            "type": "scattergl"
           }
          ],
          "scattermapbox": [
           {
            "marker": {
             "colorbar": {
              "outlinewidth": 0,
              "ticks": ""
             }
            },
            "type": "scattermapbox"
           }
          ],
          "scatterpolar": [
           {
            "marker": {
             "colorbar": {
              "outlinewidth": 0,
              "ticks": ""
             }
            },
            "type": "scatterpolar"
           }
          ],
          "scatterpolargl": [
           {
            "marker": {
             "colorbar": {
              "outlinewidth": 0,
              "ticks": ""
             }
            },
            "type": "scatterpolargl"
           }
          ],
          "scatterternary": [
           {
            "marker": {
             "colorbar": {
              "outlinewidth": 0,
              "ticks": ""
             }
            },
            "type": "scatterternary"
           }
          ],
          "surface": [
           {
            "colorbar": {
             "outlinewidth": 0,
             "ticks": ""
            },
            "colorscale": [
             [
              0,
              "#0d0887"
             ],
             [
              0.1111111111111111,
              "#46039f"
             ],
             [
              0.2222222222222222,
              "#7201a8"
             ],
             [
              0.3333333333333333,
              "#9c179e"
             ],
             [
              0.4444444444444444,
              "#bd3786"
             ],
             [
              0.5555555555555556,
              "#d8576b"
             ],
             [
              0.6666666666666666,
              "#ed7953"
             ],
             [
              0.7777777777777778,
              "#fb9f3a"
             ],
             [
              0.8888888888888888,
              "#fdca26"
             ],
             [
              1,
              "#f0f921"
             ]
            ],
            "type": "surface"
           }
          ],
          "table": [
           {
            "cells": {
             "fill": {
              "color": "#EBF0F8"
             },
             "line": {
              "color": "white"
             }
            },
            "header": {
             "fill": {
              "color": "#C8D4E3"
             },
             "line": {
              "color": "white"
             }
            },
            "type": "table"
           }
          ]
         },
         "layout": {
          "annotationdefaults": {
           "arrowcolor": "#2a3f5f",
           "arrowhead": 0,
           "arrowwidth": 1
          },
          "autotypenumbers": "strict",
          "coloraxis": {
           "colorbar": {
            "outlinewidth": 0,
            "ticks": ""
           }
          },
          "colorscale": {
           "diverging": [
            [
             0,
             "#8e0152"
            ],
            [
             0.1,
             "#c51b7d"
            ],
            [
             0.2,
             "#de77ae"
            ],
            [
             0.3,
             "#f1b6da"
            ],
            [
             0.4,
             "#fde0ef"
            ],
            [
             0.5,
             "#f7f7f7"
            ],
            [
             0.6,
             "#e6f5d0"
            ],
            [
             0.7,
             "#b8e186"
            ],
            [
             0.8,
             "#7fbc41"
            ],
            [
             0.9,
             "#4d9221"
            ],
            [
             1,
             "#276419"
            ]
           ],
           "sequential": [
            [
             0,
             "#0d0887"
            ],
            [
             0.1111111111111111,
             "#46039f"
            ],
            [
             0.2222222222222222,
             "#7201a8"
            ],
            [
             0.3333333333333333,
             "#9c179e"
            ],
            [
             0.4444444444444444,
             "#bd3786"
            ],
            [
             0.5555555555555556,
             "#d8576b"
            ],
            [
             0.6666666666666666,
             "#ed7953"
            ],
            [
             0.7777777777777778,
             "#fb9f3a"
            ],
            [
             0.8888888888888888,
             "#fdca26"
            ],
            [
             1,
             "#f0f921"
            ]
           ],
           "sequentialminus": [
            [
             0,
             "#0d0887"
            ],
            [
             0.1111111111111111,
             "#46039f"
            ],
            [
             0.2222222222222222,
             "#7201a8"
            ],
            [
             0.3333333333333333,
             "#9c179e"
            ],
            [
             0.4444444444444444,
             "#bd3786"
            ],
            [
             0.5555555555555556,
             "#d8576b"
            ],
            [
             0.6666666666666666,
             "#ed7953"
            ],
            [
             0.7777777777777778,
             "#fb9f3a"
            ],
            [
             0.8888888888888888,
             "#fdca26"
            ],
            [
             1,
             "#f0f921"
            ]
           ]
          },
          "colorway": [
           "#636efa",
           "#EF553B",
           "#00cc96",
           "#ab63fa",
           "#FFA15A",
           "#19d3f3",
           "#FF6692",
           "#B6E880",
           "#FF97FF",
           "#FECB52"
          ],
          "font": {
           "color": "#2a3f5f"
          },
          "geo": {
           "bgcolor": "white",
           "lakecolor": "white",
           "landcolor": "#E5ECF6",
           "showlakes": true,
           "showland": true,
           "subunitcolor": "white"
          },
          "hoverlabel": {
           "align": "left"
          },
          "hovermode": "closest",
          "mapbox": {
           "style": "light"
          },
          "paper_bgcolor": "white",
          "plot_bgcolor": "#E5ECF6",
          "polar": {
           "angularaxis": {
            "gridcolor": "white",
            "linecolor": "white",
            "ticks": ""
           },
           "bgcolor": "#E5ECF6",
           "radialaxis": {
            "gridcolor": "white",
            "linecolor": "white",
            "ticks": ""
           }
          },
          "scene": {
           "xaxis": {
            "backgroundcolor": "#E5ECF6",
            "gridcolor": "white",
            "gridwidth": 2,
            "linecolor": "white",
            "showbackground": true,
            "ticks": "",
            "zerolinecolor": "white"
           },
           "yaxis": {
            "backgroundcolor": "#E5ECF6",
            "gridcolor": "white",
            "gridwidth": 2,
            "linecolor": "white",
            "showbackground": true,
            "ticks": "",
            "zerolinecolor": "white"
           },
           "zaxis": {
            "backgroundcolor": "#E5ECF6",
            "gridcolor": "white",
            "gridwidth": 2,
            "linecolor": "white",
            "showbackground": true,
            "ticks": "",
            "zerolinecolor": "white"
           }
          },
          "shapedefaults": {
           "line": {
            "color": "#2a3f5f"
           }
          },
          "ternary": {
           "aaxis": {
            "gridcolor": "white",
            "linecolor": "white",
            "ticks": ""
           },
           "baxis": {
            "gridcolor": "white",
            "linecolor": "white",
            "ticks": ""
           },
           "bgcolor": "#E5ECF6",
           "caxis": {
            "gridcolor": "white",
            "linecolor": "white",
            "ticks": ""
           }
          },
          "title": {
           "x": 0.05
          },
          "xaxis": {
           "automargin": true,
           "gridcolor": "white",
           "linecolor": "white",
           "ticks": "",
           "title": {
            "standoff": 15
           },
           "zerolinecolor": "white",
           "zerolinewidth": 2
          },
          "yaxis": {
           "automargin": true,
           "gridcolor": "white",
           "linecolor": "white",
           "ticks": "",
           "title": {
            "standoff": 15
           },
           "zerolinecolor": "white",
           "zerolinewidth": 2
          }
         }
        }
       }
      }
     },
     "metadata": {},
     "output_type": "display_data"
    }
   ],
   "source": [
    "categories = mean_scores.columns.tolist()\n",
    "\n",
    "fig = go.Figure()\n",
    "\n",
    "for i in mean_scores.index:\n",
    "    df = mean_scores.loc[i].T\n",
    "    values = df.values.tolist()\n",
    "    fig.add_trace(go.Scatterpolar(\n",
    "      r=values,\n",
    "      theta=categories,\n",
    "      fill='toself',\n",
    "      name = i\n",
    "    ))\n",
    "\n",
    "fig.update_layout(\n",
    "  polar=dict(\n",
    "    radialaxis=dict(\n",
    "      visible=True,\n",
    "      range=[0, 5]\n",
    "    )),\n",
    "  showlegend=True\n",
    ")\n",
    "\n",
    "fig.show()\n",
    "\n",
    "\n",
    "# look into formatting to move legend closer. shrink whitespace. add title."
   ]
  },
  {
   "cell_type": "code",
   "execution_count": 33,
   "metadata": {},
   "outputs": [
    {
     "data": {
      "application/vnd.plotly.v1+json": {
       "config": {
        "plotlyServerURL": "https://plot.ly"
       },
       "data": [
        {
         "fill": "toself",
         "name": "0",
         "r": [
          28870.36699507389,
          51.55911330049261,
          4.108374384236453,
          1.1108374384236452,
          0.45320197044334976,
          2.29064039408867,
          1147201.7635467981,
          37.71051926108374,
          -99.25726931034482
         ],
         "theta": [
          "income",
          "age",
          "years_with_bank",
          "nbr_children",
          "gender",
          "marital_status",
          "population",
          "latitude",
          "longitude"
         ],
         "type": "scatterpolar"
        },
        {
         "fill": "toself",
         "name": "1",
         "r": [
          24621.244897959183,
          44.642857142857146,
          3.9081632653061225,
          0.6326530612244898,
          0.4489795918367347,
          1.8979591836734695,
          7322564,
          43.29942799999999,
          -74.217933
         ],
         "theta": [
          "income",
          "age",
          "years_with_bank",
          "nbr_children",
          "gender",
          "marital_status",
          "population",
          "latitude",
          "longitude"
         ],
         "type": "scatterpolar"
        },
        {
         "fill": "toself",
         "name": "2",
         "r": [
          11702.777777777777,
          26.43621399176955,
          3.57201646090535,
          0.08641975308641975,
          0.4156378600823045,
          1.1934156378600822,
          1253632.9711934156,
          36.416123740740744,
          -103.73212438683127
         ],
         "theta": [
          "income",
          "age",
          "years_with_bank",
          "nbr_children",
          "gender",
          "marital_status",
          "population",
          "latitude",
          "longitude"
         ],
         "type": "scatterpolar"
        }
       ],
       "layout": {
        "polar": {
         "radialaxis": {
          "range": [
           0,
           100000
          ],
          "visible": true
         }
        },
        "showlegend": true,
        "template": {
         "data": {
          "bar": [
           {
            "error_x": {
             "color": "#2a3f5f"
            },
            "error_y": {
             "color": "#2a3f5f"
            },
            "marker": {
             "line": {
              "color": "#E5ECF6",
              "width": 0.5
             },
             "pattern": {
              "fillmode": "overlay",
              "size": 10,
              "solidity": 0.2
             }
            },
            "type": "bar"
           }
          ],
          "barpolar": [
           {
            "marker": {
             "line": {
              "color": "#E5ECF6",
              "width": 0.5
             },
             "pattern": {
              "fillmode": "overlay",
              "size": 10,
              "solidity": 0.2
             }
            },
            "type": "barpolar"
           }
          ],
          "carpet": [
           {
            "aaxis": {
             "endlinecolor": "#2a3f5f",
             "gridcolor": "white",
             "linecolor": "white",
             "minorgridcolor": "white",
             "startlinecolor": "#2a3f5f"
            },
            "baxis": {
             "endlinecolor": "#2a3f5f",
             "gridcolor": "white",
             "linecolor": "white",
             "minorgridcolor": "white",
             "startlinecolor": "#2a3f5f"
            },
            "type": "carpet"
           }
          ],
          "choropleth": [
           {
            "colorbar": {
             "outlinewidth": 0,
             "ticks": ""
            },
            "type": "choropleth"
           }
          ],
          "contour": [
           {
            "colorbar": {
             "outlinewidth": 0,
             "ticks": ""
            },
            "colorscale": [
             [
              0,
              "#0d0887"
             ],
             [
              0.1111111111111111,
              "#46039f"
             ],
             [
              0.2222222222222222,
              "#7201a8"
             ],
             [
              0.3333333333333333,
              "#9c179e"
             ],
             [
              0.4444444444444444,
              "#bd3786"
             ],
             [
              0.5555555555555556,
              "#d8576b"
             ],
             [
              0.6666666666666666,
              "#ed7953"
             ],
             [
              0.7777777777777778,
              "#fb9f3a"
             ],
             [
              0.8888888888888888,
              "#fdca26"
             ],
             [
              1,
              "#f0f921"
             ]
            ],
            "type": "contour"
           }
          ],
          "contourcarpet": [
           {
            "colorbar": {
             "outlinewidth": 0,
             "ticks": ""
            },
            "type": "contourcarpet"
           }
          ],
          "heatmap": [
           {
            "colorbar": {
             "outlinewidth": 0,
             "ticks": ""
            },
            "colorscale": [
             [
              0,
              "#0d0887"
             ],
             [
              0.1111111111111111,
              "#46039f"
             ],
             [
              0.2222222222222222,
              "#7201a8"
             ],
             [
              0.3333333333333333,
              "#9c179e"
             ],
             [
              0.4444444444444444,
              "#bd3786"
             ],
             [
              0.5555555555555556,
              "#d8576b"
             ],
             [
              0.6666666666666666,
              "#ed7953"
             ],
             [
              0.7777777777777778,
              "#fb9f3a"
             ],
             [
              0.8888888888888888,
              "#fdca26"
             ],
             [
              1,
              "#f0f921"
             ]
            ],
            "type": "heatmap"
           }
          ],
          "heatmapgl": [
           {
            "colorbar": {
             "outlinewidth": 0,
             "ticks": ""
            },
            "colorscale": [
             [
              0,
              "#0d0887"
             ],
             [
              0.1111111111111111,
              "#46039f"
             ],
             [
              0.2222222222222222,
              "#7201a8"
             ],
             [
              0.3333333333333333,
              "#9c179e"
             ],
             [
              0.4444444444444444,
              "#bd3786"
             ],
             [
              0.5555555555555556,
              "#d8576b"
             ],
             [
              0.6666666666666666,
              "#ed7953"
             ],
             [
              0.7777777777777778,
              "#fb9f3a"
             ],
             [
              0.8888888888888888,
              "#fdca26"
             ],
             [
              1,
              "#f0f921"
             ]
            ],
            "type": "heatmapgl"
           }
          ],
          "histogram": [
           {
            "marker": {
             "pattern": {
              "fillmode": "overlay",
              "size": 10,
              "solidity": 0.2
             }
            },
            "type": "histogram"
           }
          ],
          "histogram2d": [
           {
            "colorbar": {
             "outlinewidth": 0,
             "ticks": ""
            },
            "colorscale": [
             [
              0,
              "#0d0887"
             ],
             [
              0.1111111111111111,
              "#46039f"
             ],
             [
              0.2222222222222222,
              "#7201a8"
             ],
             [
              0.3333333333333333,
              "#9c179e"
             ],
             [
              0.4444444444444444,
              "#bd3786"
             ],
             [
              0.5555555555555556,
              "#d8576b"
             ],
             [
              0.6666666666666666,
              "#ed7953"
             ],
             [
              0.7777777777777778,
              "#fb9f3a"
             ],
             [
              0.8888888888888888,
              "#fdca26"
             ],
             [
              1,
              "#f0f921"
             ]
            ],
            "type": "histogram2d"
           }
          ],
          "histogram2dcontour": [
           {
            "colorbar": {
             "outlinewidth": 0,
             "ticks": ""
            },
            "colorscale": [
             [
              0,
              "#0d0887"
             ],
             [
              0.1111111111111111,
              "#46039f"
             ],
             [
              0.2222222222222222,
              "#7201a8"
             ],
             [
              0.3333333333333333,
              "#9c179e"
             ],
             [
              0.4444444444444444,
              "#bd3786"
             ],
             [
              0.5555555555555556,
              "#d8576b"
             ],
             [
              0.6666666666666666,
              "#ed7953"
             ],
             [
              0.7777777777777778,
              "#fb9f3a"
             ],
             [
              0.8888888888888888,
              "#fdca26"
             ],
             [
              1,
              "#f0f921"
             ]
            ],
            "type": "histogram2dcontour"
           }
          ],
          "mesh3d": [
           {
            "colorbar": {
             "outlinewidth": 0,
             "ticks": ""
            },
            "type": "mesh3d"
           }
          ],
          "parcoords": [
           {
            "line": {
             "colorbar": {
              "outlinewidth": 0,
              "ticks": ""
             }
            },
            "type": "parcoords"
           }
          ],
          "pie": [
           {
            "automargin": true,
            "type": "pie"
           }
          ],
          "scatter": [
           {
            "fillpattern": {
             "fillmode": "overlay",
             "size": 10,
             "solidity": 0.2
            },
            "type": "scatter"
           }
          ],
          "scatter3d": [
           {
            "line": {
             "colorbar": {
              "outlinewidth": 0,
              "ticks": ""
             }
            },
            "marker": {
             "colorbar": {
              "outlinewidth": 0,
              "ticks": ""
             }
            },
            "type": "scatter3d"
           }
          ],
          "scattercarpet": [
           {
            "marker": {
             "colorbar": {
              "outlinewidth": 0,
              "ticks": ""
             }
            },
            "type": "scattercarpet"
           }
          ],
          "scattergeo": [
           {
            "marker": {
             "colorbar": {
              "outlinewidth": 0,
              "ticks": ""
             }
            },
            "type": "scattergeo"
           }
          ],
          "scattergl": [
           {
            "marker": {
             "colorbar": {
              "outlinewidth": 0,
              "ticks": ""
             }
            },
            "type": "scattergl"
           }
          ],
          "scattermapbox": [
           {
            "marker": {
             "colorbar": {
              "outlinewidth": 0,
              "ticks": ""
             }
            },
            "type": "scattermapbox"
           }
          ],
          "scatterpolar": [
           {
            "marker": {
             "colorbar": {
              "outlinewidth": 0,
              "ticks": ""
             }
            },
            "type": "scatterpolar"
           }
          ],
          "scatterpolargl": [
           {
            "marker": {
             "colorbar": {
              "outlinewidth": 0,
              "ticks": ""
             }
            },
            "type": "scatterpolargl"
           }
          ],
          "scatterternary": [
           {
            "marker": {
             "colorbar": {
              "outlinewidth": 0,
              "ticks": ""
             }
            },
            "type": "scatterternary"
           }
          ],
          "surface": [
           {
            "colorbar": {
             "outlinewidth": 0,
             "ticks": ""
            },
            "colorscale": [
             [
              0,
              "#0d0887"
             ],
             [
              0.1111111111111111,
              "#46039f"
             ],
             [
              0.2222222222222222,
              "#7201a8"
             ],
             [
              0.3333333333333333,
              "#9c179e"
             ],
             [
              0.4444444444444444,
              "#bd3786"
             ],
             [
              0.5555555555555556,
              "#d8576b"
             ],
             [
              0.6666666666666666,
              "#ed7953"
             ],
             [
              0.7777777777777778,
              "#fb9f3a"
             ],
             [
              0.8888888888888888,
              "#fdca26"
             ],
             [
              1,
              "#f0f921"
             ]
            ],
            "type": "surface"
           }
          ],
          "table": [
           {
            "cells": {
             "fill": {
              "color": "#EBF0F8"
             },
             "line": {
              "color": "white"
             }
            },
            "header": {
             "fill": {
              "color": "#C8D4E3"
             },
             "line": {
              "color": "white"
             }
            },
            "type": "table"
           }
          ]
         },
         "layout": {
          "annotationdefaults": {
           "arrowcolor": "#2a3f5f",
           "arrowhead": 0,
           "arrowwidth": 1
          },
          "autotypenumbers": "strict",
          "coloraxis": {
           "colorbar": {
            "outlinewidth": 0,
            "ticks": ""
           }
          },
          "colorscale": {
           "diverging": [
            [
             0,
             "#8e0152"
            ],
            [
             0.1,
             "#c51b7d"
            ],
            [
             0.2,
             "#de77ae"
            ],
            [
             0.3,
             "#f1b6da"
            ],
            [
             0.4,
             "#fde0ef"
            ],
            [
             0.5,
             "#f7f7f7"
            ],
            [
             0.6,
             "#e6f5d0"
            ],
            [
             0.7,
             "#b8e186"
            ],
            [
             0.8,
             "#7fbc41"
            ],
            [
             0.9,
             "#4d9221"
            ],
            [
             1,
             "#276419"
            ]
           ],
           "sequential": [
            [
             0,
             "#0d0887"
            ],
            [
             0.1111111111111111,
             "#46039f"
            ],
            [
             0.2222222222222222,
             "#7201a8"
            ],
            [
             0.3333333333333333,
             "#9c179e"
            ],
            [
             0.4444444444444444,
             "#bd3786"
            ],
            [
             0.5555555555555556,
             "#d8576b"
            ],
            [
             0.6666666666666666,
             "#ed7953"
            ],
            [
             0.7777777777777778,
             "#fb9f3a"
            ],
            [
             0.8888888888888888,
             "#fdca26"
            ],
            [
             1,
             "#f0f921"
            ]
           ],
           "sequentialminus": [
            [
             0,
             "#0d0887"
            ],
            [
             0.1111111111111111,
             "#46039f"
            ],
            [
             0.2222222222222222,
             "#7201a8"
            ],
            [
             0.3333333333333333,
             "#9c179e"
            ],
            [
             0.4444444444444444,
             "#bd3786"
            ],
            [
             0.5555555555555556,
             "#d8576b"
            ],
            [
             0.6666666666666666,
             "#ed7953"
            ],
            [
             0.7777777777777778,
             "#fb9f3a"
            ],
            [
             0.8888888888888888,
             "#fdca26"
            ],
            [
             1,
             "#f0f921"
            ]
           ]
          },
          "colorway": [
           "#636efa",
           "#EF553B",
           "#00cc96",
           "#ab63fa",
           "#FFA15A",
           "#19d3f3",
           "#FF6692",
           "#B6E880",
           "#FF97FF",
           "#FECB52"
          ],
          "font": {
           "color": "#2a3f5f"
          },
          "geo": {
           "bgcolor": "white",
           "lakecolor": "white",
           "landcolor": "#E5ECF6",
           "showlakes": true,
           "showland": true,
           "subunitcolor": "white"
          },
          "hoverlabel": {
           "align": "left"
          },
          "hovermode": "closest",
          "mapbox": {
           "style": "light"
          },
          "paper_bgcolor": "white",
          "plot_bgcolor": "#E5ECF6",
          "polar": {
           "angularaxis": {
            "gridcolor": "white",
            "linecolor": "white",
            "ticks": ""
           },
           "bgcolor": "#E5ECF6",
           "radialaxis": {
            "gridcolor": "white",
            "linecolor": "white",
            "ticks": ""
           }
          },
          "scene": {
           "xaxis": {
            "backgroundcolor": "#E5ECF6",
            "gridcolor": "white",
            "gridwidth": 2,
            "linecolor": "white",
            "showbackground": true,
            "ticks": "",
            "zerolinecolor": "white"
           },
           "yaxis": {
            "backgroundcolor": "#E5ECF6",
            "gridcolor": "white",
            "gridwidth": 2,
            "linecolor": "white",
            "showbackground": true,
            "ticks": "",
            "zerolinecolor": "white"
           },
           "zaxis": {
            "backgroundcolor": "#E5ECF6",
            "gridcolor": "white",
            "gridwidth": 2,
            "linecolor": "white",
            "showbackground": true,
            "ticks": "",
            "zerolinecolor": "white"
           }
          },
          "shapedefaults": {
           "line": {
            "color": "#2a3f5f"
           }
          },
          "ternary": {
           "aaxis": {
            "gridcolor": "white",
            "linecolor": "white",
            "ticks": ""
           },
           "baxis": {
            "gridcolor": "white",
            "linecolor": "white",
            "ticks": ""
           },
           "bgcolor": "#E5ECF6",
           "caxis": {
            "gridcolor": "white",
            "linecolor": "white",
            "ticks": ""
           }
          },
          "title": {
           "x": 0.05
          },
          "xaxis": {
           "automargin": true,
           "gridcolor": "white",
           "linecolor": "white",
           "ticks": "",
           "title": {
            "standoff": 15
           },
           "zerolinecolor": "white",
           "zerolinewidth": 2
          },
          "yaxis": {
           "automargin": true,
           "gridcolor": "white",
           "linecolor": "white",
           "ticks": "",
           "title": {
            "standoff": 15
           },
           "zerolinecolor": "white",
           "zerolinewidth": 2
          }
         }
        }
       }
      }
     },
     "metadata": {},
     "output_type": "display_data"
    }
   ],
   "source": [
    "# radar chart without scaling\n",
    "\n",
    "categories = means.columns.tolist()\n",
    "\n",
    "fig = go.Figure()\n",
    "\n",
    "for i in means.index:\n",
    "    df = means.loc[i].T\n",
    "    values = df.values.tolist()\n",
    "    fig.add_trace(go.Scatterpolar(\n",
    "      r=values,\n",
    "      theta=categories,\n",
    "      fill='toself',\n",
    "      name = i\n",
    "    ))\n",
    "\n",
    "fig.update_layout(\n",
    "  polar=dict(\n",
    "    radialaxis=dict(\n",
    "      visible=True,\n",
    "      range=[0, 100000]\n",
    "    )),\n",
    "  showlegend=True\n",
    ")\n",
    "\n",
    "fig.show()"
   ]
  },
  {
   "cell_type": "code",
   "execution_count": null,
   "metadata": {},
   "outputs": [],
   "source": []
  }
 ],
 "metadata": {
  "kernelspec": {
   "display_name": "lhl_data",
   "language": "python",
   "name": "python3"
  },
  "language_info": {
   "codemirror_mode": {
    "name": "ipython",
    "version": 3
   },
   "file_extension": ".py",
   "mimetype": "text/x-python",
   "name": "python",
   "nbconvert_exporter": "python",
   "pygments_lexer": "ipython3",
   "version": "3.8.16"
  },
  "orig_nbformat": 4
 },
 "nbformat": 4,
 "nbformat_minor": 2
}
